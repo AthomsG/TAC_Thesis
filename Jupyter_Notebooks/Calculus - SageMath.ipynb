{
 "cells": [
  {
   "cell_type": "code",
   "execution_count": 1,
   "id": "ad249310-b3a4-4a48-b8d2-455aabf06d12",
   "metadata": {},
   "outputs": [],
   "source": [
    "import numpy as np"
   ]
  },
  {
   "cell_type": "markdown",
   "id": "28a4d763-b209-4f6a-94b2-1d22ef255970",
   "metadata": {},
   "source": [
    "Notation:\n",
    "\n",
    "- $S_t = [S_1, S_2]$\n",
    "- $\\mathcal{A} \\in \\{a_1, a_2\\}$\n",
    "- $\\pi_{\\psi}(a_i\\mid s_t) \\coloneqq \\pi_i(s_t)$"
   ]
  },
  {
   "cell_type": "markdown",
   "id": "3e4c379a-d675-4f72-99d5-c210aaabbbbf",
   "metadata": {},
   "source": [
    "We're having problems computing the gradient of the policy loss. This notebook will serve as validation of analytical calculation results"
   ]
  },
  {
   "cell_type": "markdown",
   "id": "bbc4787d-e3a9-4df0-aeed-682c8bc2c919",
   "metadata": {},
   "source": [
    "We'll start by defining the variables for the $Q_{\\theta}(s_t, a_t)$ function. As these aren't a function of parameters $\\psi$, we'll create them as standalone variables."
   ]
  },
  {
   "cell_type": "code",
   "execution_count": 2,
   "id": "3efb650a-3679-4d12-be17-848878a448d0",
   "metadata": {},
   "outputs": [],
   "source": [
    "Q = var('q1 q2')"
   ]
  },
  {
   "cell_type": "markdown",
   "id": "7e9238bd-a6d8-4a3d-bf4f-0e8df0306f21",
   "metadata": {},
   "source": [
    "We now define the variables that make up the policy, according to the ANN architecture"
   ]
  },
  {
   "cell_type": "code",
   "execution_count": 3,
   "id": "0a8c8360-7019-4e99-bb57-17e86d4a85ec",
   "metadata": {},
   "outputs": [],
   "source": [
    "W = var('w11 w12 w21 w22') # weights\n",
    "b = var('b1 b2')           # bias\n",
    "S = var('s1 s2')           # state\n",
    "\n",
    "# output layer\n",
    "z = [S[0]*W[0] + S[1]*W[1] + b[0], \n",
    "     S[0]*W[2] + S[1]*W[3] + b[1]]\n",
    "\n",
    "# softmax activation function\n",
    "def softmax(z, i):\n",
    "    return exp(z[i]) / sum(exp(z[j]) for j in range(len(z)))\n",
    "    \n",
    "# output layer after activation function\n",
    "π = [softmax(z, i) for i in range(len(z))]"
   ]
  },
  {
   "cell_type": "code",
   "execution_count": 4,
   "id": "76ca56d1-47a2-4fe1-ac0d-f4ff98d9ff4c",
   "metadata": {},
   "outputs": [
    {
     "data": {
      "text/html": [
       "<html>\\(\\displaystyle \\left[\\frac{e^{\\left(s_{1} w_{11} + s_{2} w_{12} + b_{1}\\right)}}{e^{\\left(s_{1} w_{11} + s_{2} w_{12} + b_{1}\\right)} + e^{\\left(s_{1} w_{21} + s_{2} w_{22} + b_{2}\\right)}}, \\frac{e^{\\left(s_{1} w_{21} + s_{2} w_{22} + b_{2}\\right)}}{e^{\\left(s_{1} w_{11} + s_{2} w_{12} + b_{1}\\right)} + e^{\\left(s_{1} w_{21} + s_{2} w_{22} + b_{2}\\right)}}\\right]\\)</html>"
      ],
      "text/latex": [
       "$\\displaystyle \\left[\\frac{e^{\\left(s_{1} w_{11} + s_{2} w_{12} + b_{1}\\right)}}{e^{\\left(s_{1} w_{11} + s_{2} w_{12} + b_{1}\\right)} + e^{\\left(s_{1} w_{21} + s_{2} w_{22} + b_{2}\\right)}}, \\frac{e^{\\left(s_{1} w_{21} + s_{2} w_{22} + b_{2}\\right)}}{e^{\\left(s_{1} w_{11} + s_{2} w_{12} + b_{1}\\right)} + e^{\\left(s_{1} w_{21} + s_{2} w_{22} + b_{2}\\right)}}\\right]$"
      ],
      "text/plain": [
       "[e^(s1*w11 + s2*w12 + b1)/(e^(s1*w11 + s2*w12 + b1) + e^(s1*w21 + s2*w22 + b2)),\n",
       " e^(s1*w21 + s2*w22 + b2)/(e^(s1*w11 + s2*w12 + b1) + e^(s1*w21 + s2*w22 + b2))]"
      ]
     },
     "metadata": {},
     "output_type": "display_data"
    }
   ],
   "source": [
    "show(π, viwer='pdf') # render output in latex"
   ]
  },
  {
   "cell_type": "markdown",
   "id": "75940c77-40be-4108-95c4-4f93694e0133",
   "metadata": {},
   "source": [
    "And the value function:"
   ]
  },
  {
   "cell_type": "code",
   "execution_count": 5,
   "id": "3a4c6eb6-75cf-4158-801d-67f232658f1f",
   "metadata": {},
   "outputs": [],
   "source": [
    "W_v = var('w11_v w12_v w21_v w22_v') # weights\n",
    "b_v = var('b1_v b2_v')               # bias\n",
    "\n",
    "# output layer\n",
    "z_v = [S[0]*W_v[0] + S[1]*W_v[1] + b_v[0], \n",
    "       S[0]*W_v[2] + S[1]*W_v[3] + b_v[1]]"
   ]
  },
  {
   "cell_type": "markdown",
   "id": "c9a43375-161b-4338-a09e-2d84a6656876",
   "metadata": {},
   "source": [
    "The loss functions are defined as:"
   ]
  },
  {
   "cell_type": "code",
   "execution_count": 6,
   "id": "58ec9b7d-c834-45bd-9c9c-f5b767083fdd",
   "metadata": {},
   "outputs": [
    {
     "data": {
      "text/html": [
       "<html>\\(\\displaystyle -\\frac{{\\left(q_{1} - \\log\\left(\\frac{e^{\\left(s_{1} w_{11} + s_{2} w_{12} + b_{1}\\right)}}{e^{\\left(s_{1} w_{11} + s_{2} w_{12} + b_{1}\\right)} + e^{\\left(s_{1} w_{21} + s_{2} w_{22} + b_{2}\\right)}}\\right)\\right)} e^{\\left(s_{1} w_{11} + s_{2} w_{12} + b_{1}\\right)}}{e^{\\left(s_{1} w_{11} + s_{2} w_{12} + b_{1}\\right)} + e^{\\left(s_{1} w_{21} + s_{2} w_{22} + b_{2}\\right)}} - \\frac{{\\left(q_{2} - \\log\\left(\\frac{e^{\\left(s_{1} w_{21} + s_{2} w_{22} + b_{2}\\right)}}{e^{\\left(s_{1} w_{11} + s_{2} w_{12} + b_{1}\\right)} + e^{\\left(s_{1} w_{21} + s_{2} w_{22} + b_{2}\\right)}}\\right)\\right)} e^{\\left(s_{1} w_{21} + s_{2} w_{22} + b_{2}\\right)}}{e^{\\left(s_{1} w_{11} + s_{2} w_{12} + b_{1}\\right)} + e^{\\left(s_{1} w_{21} + s_{2} w_{22} + b_{2}\\right)}}\\)</html>"
      ],
      "text/latex": [
       "$\\displaystyle -\\frac{{\\left(q_{1} - \\log\\left(\\frac{e^{\\left(s_{1} w_{11} + s_{2} w_{12} + b_{1}\\right)}}{e^{\\left(s_{1} w_{11} + s_{2} w_{12} + b_{1}\\right)} + e^{\\left(s_{1} w_{21} + s_{2} w_{22} + b_{2}\\right)}}\\right)\\right)} e^{\\left(s_{1} w_{11} + s_{2} w_{12} + b_{1}\\right)}}{e^{\\left(s_{1} w_{11} + s_{2} w_{12} + b_{1}\\right)} + e^{\\left(s_{1} w_{21} + s_{2} w_{22} + b_{2}\\right)}} - \\frac{{\\left(q_{2} - \\log\\left(\\frac{e^{\\left(s_{1} w_{21} + s_{2} w_{22} + b_{2}\\right)}}{e^{\\left(s_{1} w_{11} + s_{2} w_{12} + b_{1}\\right)} + e^{\\left(s_{1} w_{21} + s_{2} w_{22} + b_{2}\\right)}}\\right)\\right)} e^{\\left(s_{1} w_{21} + s_{2} w_{22} + b_{2}\\right)}}{e^{\\left(s_{1} w_{11} + s_{2} w_{12} + b_{1}\\right)} + e^{\\left(s_{1} w_{21} + s_{2} w_{22} + b_{2}\\right)}}$"
      ],
      "text/plain": [
       "-(q1 - log(e^(s1*w11 + s2*w12 + b1)/(e^(s1*w11 + s2*w12 + b1) + e^(s1*w21 + s2*w22 + b2))))*e^(s1*w11 + s2*w12 + b1)/(e^(s1*w11 + s2*w12 + b1) + e^(s1*w21 + s2*w22 + b2)) - (q2 - log(e^(s1*w21 + s2*w22 + b2)/(e^(s1*w11 + s2*w12 + b1) + e^(s1*w21 + s2*w22 + b2))))*e^(s1*w21 + s2*w22 + b2)/(e^(s1*w11 + s2*w12 + b1) + e^(s1*w21 + s2*w22 + b2))"
      ]
     },
     "metadata": {},
     "output_type": "display_data"
    }
   ],
   "source": [
    "# -- Policy Loss --\n",
    "\n",
    "# negative expected regularized reward\n",
    "J_π = -(π[0]*(Q[0] - log(π[0])) + π[1]*(Q[1] - log(π[1])))\n",
    "show(J_π, viwer='pdf')"
   ]
  },
  {
   "cell_type": "code",
   "execution_count": 7,
   "id": "bcd066bd-1a9a-4c04-8b3b-41ba8d8dbe37",
   "metadata": {},
   "outputs": [
    {
     "data": {
      "text/html": [
       "<html>\\(\\displaystyle \\frac{1}{2} \\, {\\left(s_{1} \\mathit{w21}_{v} + s_{2} \\mathit{w22}_{v} + \\mathit{b2}_{v} - \\mathit{target}\\right)}^{2}\\)</html>"
      ],
      "text/latex": [
       "$\\displaystyle \\frac{1}{2} \\, {\\left(s_{1} \\mathit{w21}_{v} + s_{2} \\mathit{w22}_{v} + \\mathit{b2}_{v} - \\mathit{target}\\right)}^{2}$"
      ],
      "text/plain": [
       "1/2*(s1*w21_v + s2*w22_v + b2_v - target)^2"
      ]
     },
     "metadata": {},
     "output_type": "display_data"
    }
   ],
   "source": [
    "# -- Value Loss --\n",
    "\n",
    "# sampled state and sampled action\n",
    "ss, sa = var('ss sa')\n",
    "\n",
    "# we'll consider that the sampled action is 1\n",
    "sa = 1\n",
    "\n",
    "# here, Q_v should be Q(ss, sa)\n",
    "Q_v = z_v[sa]\n",
    "\n",
    "# traget (eq. between (9) and (10))\n",
    "target = var('target') # is a constant \n",
    "\n",
    "# bellman residual  - 1/2 * (Q(ss, sa) - target)^2\n",
    "J_q = 1/2*(Q_v - target)^2\n",
    "show(J_q, viwer='pdf')"
   ]
  },
  {
   "cell_type": "markdown",
   "id": "05c95213-e756-4b30-a95a-a907567740bf",
   "metadata": {},
   "source": [
    "We now have everything ready to compute the policy loss!"
   ]
  },
  {
   "cell_type": "markdown",
   "id": "27d2e072-6776-4464-abda-65d5b85f1943",
   "metadata": {},
   "source": [
    "# $\\nabla_{\\psi_{W}}J_{\\pi}(\\psi)$"
   ]
  },
  {
   "cell_type": "code",
   "execution_count": 8,
   "id": "f1567fa9-fa53-4c8d-920b-635b47982f89",
   "metadata": {},
   "outputs": [],
   "source": [
    "dJ_dw11 = J_π.diff(w11)\n",
    "dJ_dw12 = J_π.diff(w12)\n",
    "dJ_dw21 = J_π.diff(w21)\n",
    "dJ_dw22 = J_π.diff(w22)"
   ]
  },
  {
   "cell_type": "code",
   "execution_count": 9,
   "id": "19e5c740-fd69-4f61-9fe5-e1d1063043ac",
   "metadata": {},
   "outputs": [
    {
     "data": {
      "text/html": [
       "<html>\\(\\displaystyle -\\frac{{\\left(q_{1} - \\log\\left(\\frac{e^{\\left(s_{1} w_{11} + s_{2} w_{12} + b_{1}\\right)}}{e^{\\left(s_{1} w_{11} + s_{2} w_{12} + b_{1}\\right)} + e^{\\left(s_{1} w_{21} + s_{2} w_{22} + b_{2}\\right)}}\\right)\\right)} s_{1} e^{\\left(s_{1} w_{11} + s_{2} w_{12} + b_{1}\\right)}}{e^{\\left(s_{1} w_{11} + s_{2} w_{12} + b_{1}\\right)} + e^{\\left(s_{1} w_{21} + s_{2} w_{22} + b_{2}\\right)}} + \\frac{{\\left(q_{1} - \\log\\left(\\frac{e^{\\left(s_{1} w_{11} + s_{2} w_{12} + b_{1}\\right)}}{e^{\\left(s_{1} w_{11} + s_{2} w_{12} + b_{1}\\right)} + e^{\\left(s_{1} w_{21} + s_{2} w_{22} + b_{2}\\right)}}\\right)\\right)} s_{1} e^{\\left(2 \\, s_{1} w_{11} + 2 \\, s_{2} w_{12} + 2 \\, b_{1}\\right)}}{{\\left(e^{\\left(s_{1} w_{11} + s_{2} w_{12} + b_{1}\\right)} + e^{\\left(s_{1} w_{21} + s_{2} w_{22} + b_{2}\\right)}\\right)}^{2}} + \\frac{{\\left(q_{2} - \\log\\left(\\frac{e^{\\left(s_{1} w_{21} + s_{2} w_{22} + b_{2}\\right)}}{e^{\\left(s_{1} w_{11} + s_{2} w_{12} + b_{1}\\right)} + e^{\\left(s_{1} w_{21} + s_{2} w_{22} + b_{2}\\right)}}\\right)\\right)} s_{1} e^{\\left(s_{1} w_{11} + s_{2} w_{12} + s_{1} w_{21} + s_{2} w_{22} + b_{1} + b_{2}\\right)}}{{\\left(e^{\\left(s_{1} w_{11} + s_{2} w_{12} + b_{1}\\right)} + e^{\\left(s_{1} w_{21} + s_{2} w_{22} + b_{2}\\right)}\\right)}^{2}} + \\frac{s_{1} e^{\\left(s_{1} w_{11} + s_{2} w_{12} + b_{1}\\right)}}{e^{\\left(s_{1} w_{11} + s_{2} w_{12} + b_{1}\\right)} + e^{\\left(s_{1} w_{21} + s_{2} w_{22} + b_{2}\\right)}} - \\frac{s_{1} e^{\\left(2 \\, s_{1} w_{11} + 2 \\, s_{2} w_{12} + 2 \\, b_{1}\\right)}}{{\\left(e^{\\left(s_{1} w_{11} + s_{2} w_{12} + b_{1}\\right)} + e^{\\left(s_{1} w_{21} + s_{2} w_{22} + b_{2}\\right)}\\right)}^{2}} - \\frac{s_{1} e^{\\left(s_{1} w_{11} + s_{2} w_{12} + s_{1} w_{21} + s_{2} w_{22} + b_{1} + b_{2}\\right)}}{{\\left(e^{\\left(s_{1} w_{11} + s_{2} w_{12} + b_{1}\\right)} + e^{\\left(s_{1} w_{21} + s_{2} w_{22} + b_{2}\\right)}\\right)}^{2}}\\)</html>"
      ],
      "text/latex": [
       "$\\displaystyle -\\frac{{\\left(q_{1} - \\log\\left(\\frac{e^{\\left(s_{1} w_{11} + s_{2} w_{12} + b_{1}\\right)}}{e^{\\left(s_{1} w_{11} + s_{2} w_{12} + b_{1}\\right)} + e^{\\left(s_{1} w_{21} + s_{2} w_{22} + b_{2}\\right)}}\\right)\\right)} s_{1} e^{\\left(s_{1} w_{11} + s_{2} w_{12} + b_{1}\\right)}}{e^{\\left(s_{1} w_{11} + s_{2} w_{12} + b_{1}\\right)} + e^{\\left(s_{1} w_{21} + s_{2} w_{22} + b_{2}\\right)}} + \\frac{{\\left(q_{1} - \\log\\left(\\frac{e^{\\left(s_{1} w_{11} + s_{2} w_{12} + b_{1}\\right)}}{e^{\\left(s_{1} w_{11} + s_{2} w_{12} + b_{1}\\right)} + e^{\\left(s_{1} w_{21} + s_{2} w_{22} + b_{2}\\right)}}\\right)\\right)} s_{1} e^{\\left(2 \\, s_{1} w_{11} + 2 \\, s_{2} w_{12} + 2 \\, b_{1}\\right)}}{{\\left(e^{\\left(s_{1} w_{11} + s_{2} w_{12} + b_{1}\\right)} + e^{\\left(s_{1} w_{21} + s_{2} w_{22} + b_{2}\\right)}\\right)}^{2}} + \\frac{{\\left(q_{2} - \\log\\left(\\frac{e^{\\left(s_{1} w_{21} + s_{2} w_{22} + b_{2}\\right)}}{e^{\\left(s_{1} w_{11} + s_{2} w_{12} + b_{1}\\right)} + e^{\\left(s_{1} w_{21} + s_{2} w_{22} + b_{2}\\right)}}\\right)\\right)} s_{1} e^{\\left(s_{1} w_{11} + s_{2} w_{12} + s_{1} w_{21} + s_{2} w_{22} + b_{1} + b_{2}\\right)}}{{\\left(e^{\\left(s_{1} w_{11} + s_{2} w_{12} + b_{1}\\right)} + e^{\\left(s_{1} w_{21} + s_{2} w_{22} + b_{2}\\right)}\\right)}^{2}} + \\frac{s_{1} e^{\\left(s_{1} w_{11} + s_{2} w_{12} + b_{1}\\right)}}{e^{\\left(s_{1} w_{11} + s_{2} w_{12} + b_{1}\\right)} + e^{\\left(s_{1} w_{21} + s_{2} w_{22} + b_{2}\\right)}} - \\frac{s_{1} e^{\\left(2 \\, s_{1} w_{11} + 2 \\, s_{2} w_{12} + 2 \\, b_{1}\\right)}}{{\\left(e^{\\left(s_{1} w_{11} + s_{2} w_{12} + b_{1}\\right)} + e^{\\left(s_{1} w_{21} + s_{2} w_{22} + b_{2}\\right)}\\right)}^{2}} - \\frac{s_{1} e^{\\left(s_{1} w_{11} + s_{2} w_{12} + s_{1} w_{21} + s_{2} w_{22} + b_{1} + b_{2}\\right)}}{{\\left(e^{\\left(s_{1} w_{11} + s_{2} w_{12} + b_{1}\\right)} + e^{\\left(s_{1} w_{21} + s_{2} w_{22} + b_{2}\\right)}\\right)}^{2}}$"
      ],
      "text/plain": [
       "-(q1 - log(e^(s1*w11 + s2*w12 + b1)/(e^(s1*w11 + s2*w12 + b1) + e^(s1*w21 + s2*w22 + b2))))*s1*e^(s1*w11 + s2*w12 + b1)/(e^(s1*w11 + s2*w12 + b1) + e^(s1*w21 + s2*w22 + b2)) + (q1 - log(e^(s1*w11 + s2*w12 + b1)/(e^(s1*w11 + s2*w12 + b1) + e^(s1*w21 + s2*w22 + b2))))*s1*e^(2*s1*w11 + 2*s2*w12 + 2*b1)/(e^(s1*w11 + s2*w12 + b1) + e^(s1*w21 + s2*w22 + b2))^2 + (q2 - log(e^(s1*w21 + s2*w22 + b2)/(e^(s1*w11 + s2*w12 + b1) + e^(s1*w21 + s2*w22 + b2))))*s1*e^(s1*w11 + s2*w12 + s1*w21 + s2*w22 + b1 + b2)/(e^(s1*w11 + s2*w12 + b1) + e^(s1*w21 + s2*w22 + b2))^2 + s1*e^(s1*w11 + s2*w12 + b1)/(e^(s1*w11 + s2*w12 + b1) + e^(s1*w21 + s2*w22 + b2)) - s1*e^(2*s1*w11 + 2*s2*w12 + 2*b1)/(e^(s1*w11 + s2*w12 + b1) + e^(s1*w21 + s2*w22 + b2))^2 - s1*e^(s1*w11 + s2*w12 + s1*w21 + s2*w22 + b1 + b2)/(e^(s1*w11 + s2*w12 + b1) + e^(s1*w21 + s2*w22 + b2))^2"
      ]
     },
     "metadata": {},
     "output_type": "display_data"
    }
   ],
   "source": [
    "show(dJ_dw11, viwer='pdf')"
   ]
  },
  {
   "cell_type": "code",
   "execution_count": 10,
   "id": "51cd15fd-4748-40e4-8d04-ffb7f6078c4b",
   "metadata": {},
   "outputs": [
    {
     "data": {
      "text/html": [
       "<html>\\(\\displaystyle -\\frac{{\\left(q_{1} - \\log\\left(\\frac{e^{\\left(s_{1} w_{11} + s_{2} w_{12} + b_{1}\\right)}}{e^{\\left(s_{1} w_{11} + s_{2} w_{12} + b_{1}\\right)} + e^{\\left(s_{1} w_{21} + s_{2} w_{22} + b_{2}\\right)}}\\right)\\right)} s_{2} e^{\\left(s_{1} w_{11} + s_{2} w_{12} + b_{1}\\right)}}{e^{\\left(s_{1} w_{11} + s_{2} w_{12} + b_{1}\\right)} + e^{\\left(s_{1} w_{21} + s_{2} w_{22} + b_{2}\\right)}} + \\frac{{\\left(q_{1} - \\log\\left(\\frac{e^{\\left(s_{1} w_{11} + s_{2} w_{12} + b_{1}\\right)}}{e^{\\left(s_{1} w_{11} + s_{2} w_{12} + b_{1}\\right)} + e^{\\left(s_{1} w_{21} + s_{2} w_{22} + b_{2}\\right)}}\\right)\\right)} s_{2} e^{\\left(2 \\, s_{1} w_{11} + 2 \\, s_{2} w_{12} + 2 \\, b_{1}\\right)}}{{\\left(e^{\\left(s_{1} w_{11} + s_{2} w_{12} + b_{1}\\right)} + e^{\\left(s_{1} w_{21} + s_{2} w_{22} + b_{2}\\right)}\\right)}^{2}} + \\frac{{\\left(q_{2} - \\log\\left(\\frac{e^{\\left(s_{1} w_{21} + s_{2} w_{22} + b_{2}\\right)}}{e^{\\left(s_{1} w_{11} + s_{2} w_{12} + b_{1}\\right)} + e^{\\left(s_{1} w_{21} + s_{2} w_{22} + b_{2}\\right)}}\\right)\\right)} s_{2} e^{\\left(s_{1} w_{11} + s_{2} w_{12} + s_{1} w_{21} + s_{2} w_{22} + b_{1} + b_{2}\\right)}}{{\\left(e^{\\left(s_{1} w_{11} + s_{2} w_{12} + b_{1}\\right)} + e^{\\left(s_{1} w_{21} + s_{2} w_{22} + b_{2}\\right)}\\right)}^{2}} + \\frac{s_{2} e^{\\left(s_{1} w_{11} + s_{2} w_{12} + b_{1}\\right)}}{e^{\\left(s_{1} w_{11} + s_{2} w_{12} + b_{1}\\right)} + e^{\\left(s_{1} w_{21} + s_{2} w_{22} + b_{2}\\right)}} - \\frac{s_{2} e^{\\left(2 \\, s_{1} w_{11} + 2 \\, s_{2} w_{12} + 2 \\, b_{1}\\right)}}{{\\left(e^{\\left(s_{1} w_{11} + s_{2} w_{12} + b_{1}\\right)} + e^{\\left(s_{1} w_{21} + s_{2} w_{22} + b_{2}\\right)}\\right)}^{2}} - \\frac{s_{2} e^{\\left(s_{1} w_{11} + s_{2} w_{12} + s_{1} w_{21} + s_{2} w_{22} + b_{1} + b_{2}\\right)}}{{\\left(e^{\\left(s_{1} w_{11} + s_{2} w_{12} + b_{1}\\right)} + e^{\\left(s_{1} w_{21} + s_{2} w_{22} + b_{2}\\right)}\\right)}^{2}}\\)</html>"
      ],
      "text/latex": [
       "$\\displaystyle -\\frac{{\\left(q_{1} - \\log\\left(\\frac{e^{\\left(s_{1} w_{11} + s_{2} w_{12} + b_{1}\\right)}}{e^{\\left(s_{1} w_{11} + s_{2} w_{12} + b_{1}\\right)} + e^{\\left(s_{1} w_{21} + s_{2} w_{22} + b_{2}\\right)}}\\right)\\right)} s_{2} e^{\\left(s_{1} w_{11} + s_{2} w_{12} + b_{1}\\right)}}{e^{\\left(s_{1} w_{11} + s_{2} w_{12} + b_{1}\\right)} + e^{\\left(s_{1} w_{21} + s_{2} w_{22} + b_{2}\\right)}} + \\frac{{\\left(q_{1} - \\log\\left(\\frac{e^{\\left(s_{1} w_{11} + s_{2} w_{12} + b_{1}\\right)}}{e^{\\left(s_{1} w_{11} + s_{2} w_{12} + b_{1}\\right)} + e^{\\left(s_{1} w_{21} + s_{2} w_{22} + b_{2}\\right)}}\\right)\\right)} s_{2} e^{\\left(2 \\, s_{1} w_{11} + 2 \\, s_{2} w_{12} + 2 \\, b_{1}\\right)}}{{\\left(e^{\\left(s_{1} w_{11} + s_{2} w_{12} + b_{1}\\right)} + e^{\\left(s_{1} w_{21} + s_{2} w_{22} + b_{2}\\right)}\\right)}^{2}} + \\frac{{\\left(q_{2} - \\log\\left(\\frac{e^{\\left(s_{1} w_{21} + s_{2} w_{22} + b_{2}\\right)}}{e^{\\left(s_{1} w_{11} + s_{2} w_{12} + b_{1}\\right)} + e^{\\left(s_{1} w_{21} + s_{2} w_{22} + b_{2}\\right)}}\\right)\\right)} s_{2} e^{\\left(s_{1} w_{11} + s_{2} w_{12} + s_{1} w_{21} + s_{2} w_{22} + b_{1} + b_{2}\\right)}}{{\\left(e^{\\left(s_{1} w_{11} + s_{2} w_{12} + b_{1}\\right)} + e^{\\left(s_{1} w_{21} + s_{2} w_{22} + b_{2}\\right)}\\right)}^{2}} + \\frac{s_{2} e^{\\left(s_{1} w_{11} + s_{2} w_{12} + b_{1}\\right)}}{e^{\\left(s_{1} w_{11} + s_{2} w_{12} + b_{1}\\right)} + e^{\\left(s_{1} w_{21} + s_{2} w_{22} + b_{2}\\right)}} - \\frac{s_{2} e^{\\left(2 \\, s_{1} w_{11} + 2 \\, s_{2} w_{12} + 2 \\, b_{1}\\right)}}{{\\left(e^{\\left(s_{1} w_{11} + s_{2} w_{12} + b_{1}\\right)} + e^{\\left(s_{1} w_{21} + s_{2} w_{22} + b_{2}\\right)}\\right)}^{2}} - \\frac{s_{2} e^{\\left(s_{1} w_{11} + s_{2} w_{12} + s_{1} w_{21} + s_{2} w_{22} + b_{1} + b_{2}\\right)}}{{\\left(e^{\\left(s_{1} w_{11} + s_{2} w_{12} + b_{1}\\right)} + e^{\\left(s_{1} w_{21} + s_{2} w_{22} + b_{2}\\right)}\\right)}^{2}}$"
      ],
      "text/plain": [
       "-(q1 - log(e^(s1*w11 + s2*w12 + b1)/(e^(s1*w11 + s2*w12 + b1) + e^(s1*w21 + s2*w22 + b2))))*s2*e^(s1*w11 + s2*w12 + b1)/(e^(s1*w11 + s2*w12 + b1) + e^(s1*w21 + s2*w22 + b2)) + (q1 - log(e^(s1*w11 + s2*w12 + b1)/(e^(s1*w11 + s2*w12 + b1) + e^(s1*w21 + s2*w22 + b2))))*s2*e^(2*s1*w11 + 2*s2*w12 + 2*b1)/(e^(s1*w11 + s2*w12 + b1) + e^(s1*w21 + s2*w22 + b2))^2 + (q2 - log(e^(s1*w21 + s2*w22 + b2)/(e^(s1*w11 + s2*w12 + b1) + e^(s1*w21 + s2*w22 + b2))))*s2*e^(s1*w11 + s2*w12 + s1*w21 + s2*w22 + b1 + b2)/(e^(s1*w11 + s2*w12 + b1) + e^(s1*w21 + s2*w22 + b2))^2 + s2*e^(s1*w11 + s2*w12 + b1)/(e^(s1*w11 + s2*w12 + b1) + e^(s1*w21 + s2*w22 + b2)) - s2*e^(2*s1*w11 + 2*s2*w12 + 2*b1)/(e^(s1*w11 + s2*w12 + b1) + e^(s1*w21 + s2*w22 + b2))^2 - s2*e^(s1*w11 + s2*w12 + s1*w21 + s2*w22 + b1 + b2)/(e^(s1*w11 + s2*w12 + b1) + e^(s1*w21 + s2*w22 + b2))^2"
      ]
     },
     "metadata": {},
     "output_type": "display_data"
    }
   ],
   "source": [
    "show(dJ_dw12, viwer='pdf')"
   ]
  },
  {
   "cell_type": "code",
   "execution_count": 11,
   "id": "68d915e9-e0ec-4f88-ae90-9fd3ca9c1836",
   "metadata": {},
   "outputs": [
    {
     "data": {
      "text/html": [
       "<html>\\(\\displaystyle -\\frac{{\\left(q_{2} - \\log\\left(\\frac{e^{\\left(s_{1} w_{21} + s_{2} w_{22} + b_{2}\\right)}}{e^{\\left(s_{1} w_{11} + s_{2} w_{12} + b_{1}\\right)} + e^{\\left(s_{1} w_{21} + s_{2} w_{22} + b_{2}\\right)}}\\right)\\right)} s_{1} e^{\\left(s_{1} w_{21} + s_{2} w_{22} + b_{2}\\right)}}{e^{\\left(s_{1} w_{11} + s_{2} w_{12} + b_{1}\\right)} + e^{\\left(s_{1} w_{21} + s_{2} w_{22} + b_{2}\\right)}} + \\frac{{\\left(q_{1} - \\log\\left(\\frac{e^{\\left(s_{1} w_{11} + s_{2} w_{12} + b_{1}\\right)}}{e^{\\left(s_{1} w_{11} + s_{2} w_{12} + b_{1}\\right)} + e^{\\left(s_{1} w_{21} + s_{2} w_{22} + b_{2}\\right)}}\\right)\\right)} s_{1} e^{\\left(s_{1} w_{11} + s_{2} w_{12} + s_{1} w_{21} + s_{2} w_{22} + b_{1} + b_{2}\\right)}}{{\\left(e^{\\left(s_{1} w_{11} + s_{2} w_{12} + b_{1}\\right)} + e^{\\left(s_{1} w_{21} + s_{2} w_{22} + b_{2}\\right)}\\right)}^{2}} + \\frac{{\\left(q_{2} - \\log\\left(\\frac{e^{\\left(s_{1} w_{21} + s_{2} w_{22} + b_{2}\\right)}}{e^{\\left(s_{1} w_{11} + s_{2} w_{12} + b_{1}\\right)} + e^{\\left(s_{1} w_{21} + s_{2} w_{22} + b_{2}\\right)}}\\right)\\right)} s_{1} e^{\\left(2 \\, s_{1} w_{21} + 2 \\, s_{2} w_{22} + 2 \\, b_{2}\\right)}}{{\\left(e^{\\left(s_{1} w_{11} + s_{2} w_{12} + b_{1}\\right)} + e^{\\left(s_{1} w_{21} + s_{2} w_{22} + b_{2}\\right)}\\right)}^{2}} + \\frac{s_{1} e^{\\left(s_{1} w_{21} + s_{2} w_{22} + b_{2}\\right)}}{e^{\\left(s_{1} w_{11} + s_{2} w_{12} + b_{1}\\right)} + e^{\\left(s_{1} w_{21} + s_{2} w_{22} + b_{2}\\right)}} - \\frac{s_{1} e^{\\left(s_{1} w_{11} + s_{2} w_{12} + s_{1} w_{21} + s_{2} w_{22} + b_{1} + b_{2}\\right)}}{{\\left(e^{\\left(s_{1} w_{11} + s_{2} w_{12} + b_{1}\\right)} + e^{\\left(s_{1} w_{21} + s_{2} w_{22} + b_{2}\\right)}\\right)}^{2}} - \\frac{s_{1} e^{\\left(2 \\, s_{1} w_{21} + 2 \\, s_{2} w_{22} + 2 \\, b_{2}\\right)}}{{\\left(e^{\\left(s_{1} w_{11} + s_{2} w_{12} + b_{1}\\right)} + e^{\\left(s_{1} w_{21} + s_{2} w_{22} + b_{2}\\right)}\\right)}^{2}}\\)</html>"
      ],
      "text/latex": [
       "$\\displaystyle -\\frac{{\\left(q_{2} - \\log\\left(\\frac{e^{\\left(s_{1} w_{21} + s_{2} w_{22} + b_{2}\\right)}}{e^{\\left(s_{1} w_{11} + s_{2} w_{12} + b_{1}\\right)} + e^{\\left(s_{1} w_{21} + s_{2} w_{22} + b_{2}\\right)}}\\right)\\right)} s_{1} e^{\\left(s_{1} w_{21} + s_{2} w_{22} + b_{2}\\right)}}{e^{\\left(s_{1} w_{11} + s_{2} w_{12} + b_{1}\\right)} + e^{\\left(s_{1} w_{21} + s_{2} w_{22} + b_{2}\\right)}} + \\frac{{\\left(q_{1} - \\log\\left(\\frac{e^{\\left(s_{1} w_{11} + s_{2} w_{12} + b_{1}\\right)}}{e^{\\left(s_{1} w_{11} + s_{2} w_{12} + b_{1}\\right)} + e^{\\left(s_{1} w_{21} + s_{2} w_{22} + b_{2}\\right)}}\\right)\\right)} s_{1} e^{\\left(s_{1} w_{11} + s_{2} w_{12} + s_{1} w_{21} + s_{2} w_{22} + b_{1} + b_{2}\\right)}}{{\\left(e^{\\left(s_{1} w_{11} + s_{2} w_{12} + b_{1}\\right)} + e^{\\left(s_{1} w_{21} + s_{2} w_{22} + b_{2}\\right)}\\right)}^{2}} + \\frac{{\\left(q_{2} - \\log\\left(\\frac{e^{\\left(s_{1} w_{21} + s_{2} w_{22} + b_{2}\\right)}}{e^{\\left(s_{1} w_{11} + s_{2} w_{12} + b_{1}\\right)} + e^{\\left(s_{1} w_{21} + s_{2} w_{22} + b_{2}\\right)}}\\right)\\right)} s_{1} e^{\\left(2 \\, s_{1} w_{21} + 2 \\, s_{2} w_{22} + 2 \\, b_{2}\\right)}}{{\\left(e^{\\left(s_{1} w_{11} + s_{2} w_{12} + b_{1}\\right)} + e^{\\left(s_{1} w_{21} + s_{2} w_{22} + b_{2}\\right)}\\right)}^{2}} + \\frac{s_{1} e^{\\left(s_{1} w_{21} + s_{2} w_{22} + b_{2}\\right)}}{e^{\\left(s_{1} w_{11} + s_{2} w_{12} + b_{1}\\right)} + e^{\\left(s_{1} w_{21} + s_{2} w_{22} + b_{2}\\right)}} - \\frac{s_{1} e^{\\left(s_{1} w_{11} + s_{2} w_{12} + s_{1} w_{21} + s_{2} w_{22} + b_{1} + b_{2}\\right)}}{{\\left(e^{\\left(s_{1} w_{11} + s_{2} w_{12} + b_{1}\\right)} + e^{\\left(s_{1} w_{21} + s_{2} w_{22} + b_{2}\\right)}\\right)}^{2}} - \\frac{s_{1} e^{\\left(2 \\, s_{1} w_{21} + 2 \\, s_{2} w_{22} + 2 \\, b_{2}\\right)}}{{\\left(e^{\\left(s_{1} w_{11} + s_{2} w_{12} + b_{1}\\right)} + e^{\\left(s_{1} w_{21} + s_{2} w_{22} + b_{2}\\right)}\\right)}^{2}}$"
      ],
      "text/plain": [
       "-(q2 - log(e^(s1*w21 + s2*w22 + b2)/(e^(s1*w11 + s2*w12 + b1) + e^(s1*w21 + s2*w22 + b2))))*s1*e^(s1*w21 + s2*w22 + b2)/(e^(s1*w11 + s2*w12 + b1) + e^(s1*w21 + s2*w22 + b2)) + (q1 - log(e^(s1*w11 + s2*w12 + b1)/(e^(s1*w11 + s2*w12 + b1) + e^(s1*w21 + s2*w22 + b2))))*s1*e^(s1*w11 + s2*w12 + s1*w21 + s2*w22 + b1 + b2)/(e^(s1*w11 + s2*w12 + b1) + e^(s1*w21 + s2*w22 + b2))^2 + (q2 - log(e^(s1*w21 + s2*w22 + b2)/(e^(s1*w11 + s2*w12 + b1) + e^(s1*w21 + s2*w22 + b2))))*s1*e^(2*s1*w21 + 2*s2*w22 + 2*b2)/(e^(s1*w11 + s2*w12 + b1) + e^(s1*w21 + s2*w22 + b2))^2 + s1*e^(s1*w21 + s2*w22 + b2)/(e^(s1*w11 + s2*w12 + b1) + e^(s1*w21 + s2*w22 + b2)) - s1*e^(s1*w11 + s2*w12 + s1*w21 + s2*w22 + b1 + b2)/(e^(s1*w11 + s2*w12 + b1) + e^(s1*w21 + s2*w22 + b2))^2 - s1*e^(2*s1*w21 + 2*s2*w22 + 2*b2)/(e^(s1*w11 + s2*w12 + b1) + e^(s1*w21 + s2*w22 + b2))^2"
      ]
     },
     "metadata": {},
     "output_type": "display_data"
    }
   ],
   "source": [
    "show(dJ_dw21, viwer='pdf')"
   ]
  },
  {
   "cell_type": "code",
   "execution_count": 12,
   "id": "daaa8460-435e-4abc-ad0f-e2591c037e72",
   "metadata": {},
   "outputs": [
    {
     "data": {
      "text/html": [
       "<html>\\(\\displaystyle -\\frac{{\\left(q_{2} - \\log\\left(\\frac{e^{\\left(s_{1} w_{21} + s_{2} w_{22} + b_{2}\\right)}}{e^{\\left(s_{1} w_{11} + s_{2} w_{12} + b_{1}\\right)} + e^{\\left(s_{1} w_{21} + s_{2} w_{22} + b_{2}\\right)}}\\right)\\right)} s_{2} e^{\\left(s_{1} w_{21} + s_{2} w_{22} + b_{2}\\right)}}{e^{\\left(s_{1} w_{11} + s_{2} w_{12} + b_{1}\\right)} + e^{\\left(s_{1} w_{21} + s_{2} w_{22} + b_{2}\\right)}} + \\frac{{\\left(q_{1} - \\log\\left(\\frac{e^{\\left(s_{1} w_{11} + s_{2} w_{12} + b_{1}\\right)}}{e^{\\left(s_{1} w_{11} + s_{2} w_{12} + b_{1}\\right)} + e^{\\left(s_{1} w_{21} + s_{2} w_{22} + b_{2}\\right)}}\\right)\\right)} s_{2} e^{\\left(s_{1} w_{11} + s_{2} w_{12} + s_{1} w_{21} + s_{2} w_{22} + b_{1} + b_{2}\\right)}}{{\\left(e^{\\left(s_{1} w_{11} + s_{2} w_{12} + b_{1}\\right)} + e^{\\left(s_{1} w_{21} + s_{2} w_{22} + b_{2}\\right)}\\right)}^{2}} + \\frac{{\\left(q_{2} - \\log\\left(\\frac{e^{\\left(s_{1} w_{21} + s_{2} w_{22} + b_{2}\\right)}}{e^{\\left(s_{1} w_{11} + s_{2} w_{12} + b_{1}\\right)} + e^{\\left(s_{1} w_{21} + s_{2} w_{22} + b_{2}\\right)}}\\right)\\right)} s_{2} e^{\\left(2 \\, s_{1} w_{21} + 2 \\, s_{2} w_{22} + 2 \\, b_{2}\\right)}}{{\\left(e^{\\left(s_{1} w_{11} + s_{2} w_{12} + b_{1}\\right)} + e^{\\left(s_{1} w_{21} + s_{2} w_{22} + b_{2}\\right)}\\right)}^{2}} + \\frac{s_{2} e^{\\left(s_{1} w_{21} + s_{2} w_{22} + b_{2}\\right)}}{e^{\\left(s_{1} w_{11} + s_{2} w_{12} + b_{1}\\right)} + e^{\\left(s_{1} w_{21} + s_{2} w_{22} + b_{2}\\right)}} - \\frac{s_{2} e^{\\left(s_{1} w_{11} + s_{2} w_{12} + s_{1} w_{21} + s_{2} w_{22} + b_{1} + b_{2}\\right)}}{{\\left(e^{\\left(s_{1} w_{11} + s_{2} w_{12} + b_{1}\\right)} + e^{\\left(s_{1} w_{21} + s_{2} w_{22} + b_{2}\\right)}\\right)}^{2}} - \\frac{s_{2} e^{\\left(2 \\, s_{1} w_{21} + 2 \\, s_{2} w_{22} + 2 \\, b_{2}\\right)}}{{\\left(e^{\\left(s_{1} w_{11} + s_{2} w_{12} + b_{1}\\right)} + e^{\\left(s_{1} w_{21} + s_{2} w_{22} + b_{2}\\right)}\\right)}^{2}}\\)</html>"
      ],
      "text/latex": [
       "$\\displaystyle -\\frac{{\\left(q_{2} - \\log\\left(\\frac{e^{\\left(s_{1} w_{21} + s_{2} w_{22} + b_{2}\\right)}}{e^{\\left(s_{1} w_{11} + s_{2} w_{12} + b_{1}\\right)} + e^{\\left(s_{1} w_{21} + s_{2} w_{22} + b_{2}\\right)}}\\right)\\right)} s_{2} e^{\\left(s_{1} w_{21} + s_{2} w_{22} + b_{2}\\right)}}{e^{\\left(s_{1} w_{11} + s_{2} w_{12} + b_{1}\\right)} + e^{\\left(s_{1} w_{21} + s_{2} w_{22} + b_{2}\\right)}} + \\frac{{\\left(q_{1} - \\log\\left(\\frac{e^{\\left(s_{1} w_{11} + s_{2} w_{12} + b_{1}\\right)}}{e^{\\left(s_{1} w_{11} + s_{2} w_{12} + b_{1}\\right)} + e^{\\left(s_{1} w_{21} + s_{2} w_{22} + b_{2}\\right)}}\\right)\\right)} s_{2} e^{\\left(s_{1} w_{11} + s_{2} w_{12} + s_{1} w_{21} + s_{2} w_{22} + b_{1} + b_{2}\\right)}}{{\\left(e^{\\left(s_{1} w_{11} + s_{2} w_{12} + b_{1}\\right)} + e^{\\left(s_{1} w_{21} + s_{2} w_{22} + b_{2}\\right)}\\right)}^{2}} + \\frac{{\\left(q_{2} - \\log\\left(\\frac{e^{\\left(s_{1} w_{21} + s_{2} w_{22} + b_{2}\\right)}}{e^{\\left(s_{1} w_{11} + s_{2} w_{12} + b_{1}\\right)} + e^{\\left(s_{1} w_{21} + s_{2} w_{22} + b_{2}\\right)}}\\right)\\right)} s_{2} e^{\\left(2 \\, s_{1} w_{21} + 2 \\, s_{2} w_{22} + 2 \\, b_{2}\\right)}}{{\\left(e^{\\left(s_{1} w_{11} + s_{2} w_{12} + b_{1}\\right)} + e^{\\left(s_{1} w_{21} + s_{2} w_{22} + b_{2}\\right)}\\right)}^{2}} + \\frac{s_{2} e^{\\left(s_{1} w_{21} + s_{2} w_{22} + b_{2}\\right)}}{e^{\\left(s_{1} w_{11} + s_{2} w_{12} + b_{1}\\right)} + e^{\\left(s_{1} w_{21} + s_{2} w_{22} + b_{2}\\right)}} - \\frac{s_{2} e^{\\left(s_{1} w_{11} + s_{2} w_{12} + s_{1} w_{21} + s_{2} w_{22} + b_{1} + b_{2}\\right)}}{{\\left(e^{\\left(s_{1} w_{11} + s_{2} w_{12} + b_{1}\\right)} + e^{\\left(s_{1} w_{21} + s_{2} w_{22} + b_{2}\\right)}\\right)}^{2}} - \\frac{s_{2} e^{\\left(2 \\, s_{1} w_{21} + 2 \\, s_{2} w_{22} + 2 \\, b_{2}\\right)}}{{\\left(e^{\\left(s_{1} w_{11} + s_{2} w_{12} + b_{1}\\right)} + e^{\\left(s_{1} w_{21} + s_{2} w_{22} + b_{2}\\right)}\\right)}^{2}}$"
      ],
      "text/plain": [
       "-(q2 - log(e^(s1*w21 + s2*w22 + b2)/(e^(s1*w11 + s2*w12 + b1) + e^(s1*w21 + s2*w22 + b2))))*s2*e^(s1*w21 + s2*w22 + b2)/(e^(s1*w11 + s2*w12 + b1) + e^(s1*w21 + s2*w22 + b2)) + (q1 - log(e^(s1*w11 + s2*w12 + b1)/(e^(s1*w11 + s2*w12 + b1) + e^(s1*w21 + s2*w22 + b2))))*s2*e^(s1*w11 + s2*w12 + s1*w21 + s2*w22 + b1 + b2)/(e^(s1*w11 + s2*w12 + b1) + e^(s1*w21 + s2*w22 + b2))^2 + (q2 - log(e^(s1*w21 + s2*w22 + b2)/(e^(s1*w11 + s2*w12 + b1) + e^(s1*w21 + s2*w22 + b2))))*s2*e^(2*s1*w21 + 2*s2*w22 + 2*b2)/(e^(s1*w11 + s2*w12 + b1) + e^(s1*w21 + s2*w22 + b2))^2 + s2*e^(s1*w21 + s2*w22 + b2)/(e^(s1*w11 + s2*w12 + b1) + e^(s1*w21 + s2*w22 + b2)) - s2*e^(s1*w11 + s2*w12 + s1*w21 + s2*w22 + b1 + b2)/(e^(s1*w11 + s2*w12 + b1) + e^(s1*w21 + s2*w22 + b2))^2 - s2*e^(2*s1*w21 + 2*s2*w22 + 2*b2)/(e^(s1*w11 + s2*w12 + b1) + e^(s1*w21 + s2*w22 + b2))^2"
      ]
     },
     "metadata": {},
     "output_type": "display_data"
    }
   ],
   "source": [
    "show(dJ_dw22, viwer='pdf')"
   ]
  },
  {
   "cell_type": "markdown",
   "id": "87408177-e76e-4e5c-8be3-608593779404",
   "metadata": {},
   "source": [
    "# $\\nabla_{\\psi_{b}}J_{\\pi}(\\psi)$"
   ]
  },
  {
   "cell_type": "code",
   "execution_count": 13,
   "id": "ae0c93c8-5ceb-4dd7-b668-105cf927e39e",
   "metadata": {},
   "outputs": [],
   "source": [
    "dJ_db1 = J_π.diff(b1)\n",
    "dJ_db2 = J_π.diff(b2)"
   ]
  },
  {
   "cell_type": "code",
   "execution_count": 14,
   "id": "0db68634-08e1-4ca0-8a42-5547a69a0499",
   "metadata": {},
   "outputs": [
    {
     "data": {
      "text/html": [
       "<html>\\(\\displaystyle -\\frac{{\\left(q_{1} - \\log\\left(\\frac{e^{\\left(s_{1} w_{11} + s_{2} w_{12} + b_{1}\\right)}}{e^{\\left(s_{1} w_{11} + s_{2} w_{12} + b_{1}\\right)} + e^{\\left(s_{1} w_{21} + s_{2} w_{22} + b_{2}\\right)}}\\right)\\right)} e^{\\left(s_{1} w_{11} + s_{2} w_{12} + b_{1}\\right)}}{e^{\\left(s_{1} w_{11} + s_{2} w_{12} + b_{1}\\right)} + e^{\\left(s_{1} w_{21} + s_{2} w_{22} + b_{2}\\right)}} + \\frac{{\\left(q_{1} - \\log\\left(\\frac{e^{\\left(s_{1} w_{11} + s_{2} w_{12} + b_{1}\\right)}}{e^{\\left(s_{1} w_{11} + s_{2} w_{12} + b_{1}\\right)} + e^{\\left(s_{1} w_{21} + s_{2} w_{22} + b_{2}\\right)}}\\right)\\right)} e^{\\left(2 \\, s_{1} w_{11} + 2 \\, s_{2} w_{12} + 2 \\, b_{1}\\right)}}{{\\left(e^{\\left(s_{1} w_{11} + s_{2} w_{12} + b_{1}\\right)} + e^{\\left(s_{1} w_{21} + s_{2} w_{22} + b_{2}\\right)}\\right)}^{2}} + \\frac{{\\left(q_{2} - \\log\\left(\\frac{e^{\\left(s_{1} w_{21} + s_{2} w_{22} + b_{2}\\right)}}{e^{\\left(s_{1} w_{11} + s_{2} w_{12} + b_{1}\\right)} + e^{\\left(s_{1} w_{21} + s_{2} w_{22} + b_{2}\\right)}}\\right)\\right)} e^{\\left(s_{1} w_{11} + s_{2} w_{12} + s_{1} w_{21} + s_{2} w_{22} + b_{1} + b_{2}\\right)}}{{\\left(e^{\\left(s_{1} w_{11} + s_{2} w_{12} + b_{1}\\right)} + e^{\\left(s_{1} w_{21} + s_{2} w_{22} + b_{2}\\right)}\\right)}^{2}} + \\frac{e^{\\left(s_{1} w_{11} + s_{2} w_{12} + b_{1}\\right)}}{e^{\\left(s_{1} w_{11} + s_{2} w_{12} + b_{1}\\right)} + e^{\\left(s_{1} w_{21} + s_{2} w_{22} + b_{2}\\right)}} - \\frac{e^{\\left(2 \\, s_{1} w_{11} + 2 \\, s_{2} w_{12} + 2 \\, b_{1}\\right)}}{{\\left(e^{\\left(s_{1} w_{11} + s_{2} w_{12} + b_{1}\\right)} + e^{\\left(s_{1} w_{21} + s_{2} w_{22} + b_{2}\\right)}\\right)}^{2}} - \\frac{e^{\\left(s_{1} w_{11} + s_{2} w_{12} + s_{1} w_{21} + s_{2} w_{22} + b_{1} + b_{2}\\right)}}{{\\left(e^{\\left(s_{1} w_{11} + s_{2} w_{12} + b_{1}\\right)} + e^{\\left(s_{1} w_{21} + s_{2} w_{22} + b_{2}\\right)}\\right)}^{2}}\\)</html>"
      ],
      "text/latex": [
       "$\\displaystyle -\\frac{{\\left(q_{1} - \\log\\left(\\frac{e^{\\left(s_{1} w_{11} + s_{2} w_{12} + b_{1}\\right)}}{e^{\\left(s_{1} w_{11} + s_{2} w_{12} + b_{1}\\right)} + e^{\\left(s_{1} w_{21} + s_{2} w_{22} + b_{2}\\right)}}\\right)\\right)} e^{\\left(s_{1} w_{11} + s_{2} w_{12} + b_{1}\\right)}}{e^{\\left(s_{1} w_{11} + s_{2} w_{12} + b_{1}\\right)} + e^{\\left(s_{1} w_{21} + s_{2} w_{22} + b_{2}\\right)}} + \\frac{{\\left(q_{1} - \\log\\left(\\frac{e^{\\left(s_{1} w_{11} + s_{2} w_{12} + b_{1}\\right)}}{e^{\\left(s_{1} w_{11} + s_{2} w_{12} + b_{1}\\right)} + e^{\\left(s_{1} w_{21} + s_{2} w_{22} + b_{2}\\right)}}\\right)\\right)} e^{\\left(2 \\, s_{1} w_{11} + 2 \\, s_{2} w_{12} + 2 \\, b_{1}\\right)}}{{\\left(e^{\\left(s_{1} w_{11} + s_{2} w_{12} + b_{1}\\right)} + e^{\\left(s_{1} w_{21} + s_{2} w_{22} + b_{2}\\right)}\\right)}^{2}} + \\frac{{\\left(q_{2} - \\log\\left(\\frac{e^{\\left(s_{1} w_{21} + s_{2} w_{22} + b_{2}\\right)}}{e^{\\left(s_{1} w_{11} + s_{2} w_{12} + b_{1}\\right)} + e^{\\left(s_{1} w_{21} + s_{2} w_{22} + b_{2}\\right)}}\\right)\\right)} e^{\\left(s_{1} w_{11} + s_{2} w_{12} + s_{1} w_{21} + s_{2} w_{22} + b_{1} + b_{2}\\right)}}{{\\left(e^{\\left(s_{1} w_{11} + s_{2} w_{12} + b_{1}\\right)} + e^{\\left(s_{1} w_{21} + s_{2} w_{22} + b_{2}\\right)}\\right)}^{2}} + \\frac{e^{\\left(s_{1} w_{11} + s_{2} w_{12} + b_{1}\\right)}}{e^{\\left(s_{1} w_{11} + s_{2} w_{12} + b_{1}\\right)} + e^{\\left(s_{1} w_{21} + s_{2} w_{22} + b_{2}\\right)}} - \\frac{e^{\\left(2 \\, s_{1} w_{11} + 2 \\, s_{2} w_{12} + 2 \\, b_{1}\\right)}}{{\\left(e^{\\left(s_{1} w_{11} + s_{2} w_{12} + b_{1}\\right)} + e^{\\left(s_{1} w_{21} + s_{2} w_{22} + b_{2}\\right)}\\right)}^{2}} - \\frac{e^{\\left(s_{1} w_{11} + s_{2} w_{12} + s_{1} w_{21} + s_{2} w_{22} + b_{1} + b_{2}\\right)}}{{\\left(e^{\\left(s_{1} w_{11} + s_{2} w_{12} + b_{1}\\right)} + e^{\\left(s_{1} w_{21} + s_{2} w_{22} + b_{2}\\right)}\\right)}^{2}}$"
      ],
      "text/plain": [
       "-(q1 - log(e^(s1*w11 + s2*w12 + b1)/(e^(s1*w11 + s2*w12 + b1) + e^(s1*w21 + s2*w22 + b2))))*e^(s1*w11 + s2*w12 + b1)/(e^(s1*w11 + s2*w12 + b1) + e^(s1*w21 + s2*w22 + b2)) + (q1 - log(e^(s1*w11 + s2*w12 + b1)/(e^(s1*w11 + s2*w12 + b1) + e^(s1*w21 + s2*w22 + b2))))*e^(2*s1*w11 + 2*s2*w12 + 2*b1)/(e^(s1*w11 + s2*w12 + b1) + e^(s1*w21 + s2*w22 + b2))^2 + (q2 - log(e^(s1*w21 + s2*w22 + b2)/(e^(s1*w11 + s2*w12 + b1) + e^(s1*w21 + s2*w22 + b2))))*e^(s1*w11 + s2*w12 + s1*w21 + s2*w22 + b1 + b2)/(e^(s1*w11 + s2*w12 + b1) + e^(s1*w21 + s2*w22 + b2))^2 + e^(s1*w11 + s2*w12 + b1)/(e^(s1*w11 + s2*w12 + b1) + e^(s1*w21 + s2*w22 + b2)) - e^(2*s1*w11 + 2*s2*w12 + 2*b1)/(e^(s1*w11 + s2*w12 + b1) + e^(s1*w21 + s2*w22 + b2))^2 - e^(s1*w11 + s2*w12 + s1*w21 + s2*w22 + b1 + b2)/(e^(s1*w11 + s2*w12 + b1) + e^(s1*w21 + s2*w22 + b2))^2"
      ]
     },
     "metadata": {},
     "output_type": "display_data"
    }
   ],
   "source": [
    "show(dJ_db1, viwer='pdf')"
   ]
  },
  {
   "cell_type": "code",
   "execution_count": 15,
   "id": "11931a23-d9bf-47f8-85a6-9a428cd91fb7",
   "metadata": {},
   "outputs": [
    {
     "data": {
      "text/html": [
       "<html>\\(\\displaystyle -\\frac{{\\left(q_{2} - \\log\\left(\\frac{e^{\\left(s_{1} w_{21} + s_{2} w_{22} + b_{2}\\right)}}{e^{\\left(s_{1} w_{11} + s_{2} w_{12} + b_{1}\\right)} + e^{\\left(s_{1} w_{21} + s_{2} w_{22} + b_{2}\\right)}}\\right)\\right)} e^{\\left(s_{1} w_{21} + s_{2} w_{22} + b_{2}\\right)}}{e^{\\left(s_{1} w_{11} + s_{2} w_{12} + b_{1}\\right)} + e^{\\left(s_{1} w_{21} + s_{2} w_{22} + b_{2}\\right)}} + \\frac{{\\left(q_{1} - \\log\\left(\\frac{e^{\\left(s_{1} w_{11} + s_{2} w_{12} + b_{1}\\right)}}{e^{\\left(s_{1} w_{11} + s_{2} w_{12} + b_{1}\\right)} + e^{\\left(s_{1} w_{21} + s_{2} w_{22} + b_{2}\\right)}}\\right)\\right)} e^{\\left(s_{1} w_{11} + s_{2} w_{12} + s_{1} w_{21} + s_{2} w_{22} + b_{1} + b_{2}\\right)}}{{\\left(e^{\\left(s_{1} w_{11} + s_{2} w_{12} + b_{1}\\right)} + e^{\\left(s_{1} w_{21} + s_{2} w_{22} + b_{2}\\right)}\\right)}^{2}} + \\frac{{\\left(q_{2} - \\log\\left(\\frac{e^{\\left(s_{1} w_{21} + s_{2} w_{22} + b_{2}\\right)}}{e^{\\left(s_{1} w_{11} + s_{2} w_{12} + b_{1}\\right)} + e^{\\left(s_{1} w_{21} + s_{2} w_{22} + b_{2}\\right)}}\\right)\\right)} e^{\\left(2 \\, s_{1} w_{21} + 2 \\, s_{2} w_{22} + 2 \\, b_{2}\\right)}}{{\\left(e^{\\left(s_{1} w_{11} + s_{2} w_{12} + b_{1}\\right)} + e^{\\left(s_{1} w_{21} + s_{2} w_{22} + b_{2}\\right)}\\right)}^{2}} + \\frac{e^{\\left(s_{1} w_{21} + s_{2} w_{22} + b_{2}\\right)}}{e^{\\left(s_{1} w_{11} + s_{2} w_{12} + b_{1}\\right)} + e^{\\left(s_{1} w_{21} + s_{2} w_{22} + b_{2}\\right)}} - \\frac{e^{\\left(s_{1} w_{11} + s_{2} w_{12} + s_{1} w_{21} + s_{2} w_{22} + b_{1} + b_{2}\\right)}}{{\\left(e^{\\left(s_{1} w_{11} + s_{2} w_{12} + b_{1}\\right)} + e^{\\left(s_{1} w_{21} + s_{2} w_{22} + b_{2}\\right)}\\right)}^{2}} - \\frac{e^{\\left(2 \\, s_{1} w_{21} + 2 \\, s_{2} w_{22} + 2 \\, b_{2}\\right)}}{{\\left(e^{\\left(s_{1} w_{11} + s_{2} w_{12} + b_{1}\\right)} + e^{\\left(s_{1} w_{21} + s_{2} w_{22} + b_{2}\\right)}\\right)}^{2}}\\)</html>"
      ],
      "text/latex": [
       "$\\displaystyle -\\frac{{\\left(q_{2} - \\log\\left(\\frac{e^{\\left(s_{1} w_{21} + s_{2} w_{22} + b_{2}\\right)}}{e^{\\left(s_{1} w_{11} + s_{2} w_{12} + b_{1}\\right)} + e^{\\left(s_{1} w_{21} + s_{2} w_{22} + b_{2}\\right)}}\\right)\\right)} e^{\\left(s_{1} w_{21} + s_{2} w_{22} + b_{2}\\right)}}{e^{\\left(s_{1} w_{11} + s_{2} w_{12} + b_{1}\\right)} + e^{\\left(s_{1} w_{21} + s_{2} w_{22} + b_{2}\\right)}} + \\frac{{\\left(q_{1} - \\log\\left(\\frac{e^{\\left(s_{1} w_{11} + s_{2} w_{12} + b_{1}\\right)}}{e^{\\left(s_{1} w_{11} + s_{2} w_{12} + b_{1}\\right)} + e^{\\left(s_{1} w_{21} + s_{2} w_{22} + b_{2}\\right)}}\\right)\\right)} e^{\\left(s_{1} w_{11} + s_{2} w_{12} + s_{1} w_{21} + s_{2} w_{22} + b_{1} + b_{2}\\right)}}{{\\left(e^{\\left(s_{1} w_{11} + s_{2} w_{12} + b_{1}\\right)} + e^{\\left(s_{1} w_{21} + s_{2} w_{22} + b_{2}\\right)}\\right)}^{2}} + \\frac{{\\left(q_{2} - \\log\\left(\\frac{e^{\\left(s_{1} w_{21} + s_{2} w_{22} + b_{2}\\right)}}{e^{\\left(s_{1} w_{11} + s_{2} w_{12} + b_{1}\\right)} + e^{\\left(s_{1} w_{21} + s_{2} w_{22} + b_{2}\\right)}}\\right)\\right)} e^{\\left(2 \\, s_{1} w_{21} + 2 \\, s_{2} w_{22} + 2 \\, b_{2}\\right)}}{{\\left(e^{\\left(s_{1} w_{11} + s_{2} w_{12} + b_{1}\\right)} + e^{\\left(s_{1} w_{21} + s_{2} w_{22} + b_{2}\\right)}\\right)}^{2}} + \\frac{e^{\\left(s_{1} w_{21} + s_{2} w_{22} + b_{2}\\right)}}{e^{\\left(s_{1} w_{11} + s_{2} w_{12} + b_{1}\\right)} + e^{\\left(s_{1} w_{21} + s_{2} w_{22} + b_{2}\\right)}} - \\frac{e^{\\left(s_{1} w_{11} + s_{2} w_{12} + s_{1} w_{21} + s_{2} w_{22} + b_{1} + b_{2}\\right)}}{{\\left(e^{\\left(s_{1} w_{11} + s_{2} w_{12} + b_{1}\\right)} + e^{\\left(s_{1} w_{21} + s_{2} w_{22} + b_{2}\\right)}\\right)}^{2}} - \\frac{e^{\\left(2 \\, s_{1} w_{21} + 2 \\, s_{2} w_{22} + 2 \\, b_{2}\\right)}}{{\\left(e^{\\left(s_{1} w_{11} + s_{2} w_{12} + b_{1}\\right)} + e^{\\left(s_{1} w_{21} + s_{2} w_{22} + b_{2}\\right)}\\right)}^{2}}$"
      ],
      "text/plain": [
       "-(q2 - log(e^(s1*w21 + s2*w22 + b2)/(e^(s1*w11 + s2*w12 + b1) + e^(s1*w21 + s2*w22 + b2))))*e^(s1*w21 + s2*w22 + b2)/(e^(s1*w11 + s2*w12 + b1) + e^(s1*w21 + s2*w22 + b2)) + (q1 - log(e^(s1*w11 + s2*w12 + b1)/(e^(s1*w11 + s2*w12 + b1) + e^(s1*w21 + s2*w22 + b2))))*e^(s1*w11 + s2*w12 + s1*w21 + s2*w22 + b1 + b2)/(e^(s1*w11 + s2*w12 + b1) + e^(s1*w21 + s2*w22 + b2))^2 + (q2 - log(e^(s1*w21 + s2*w22 + b2)/(e^(s1*w11 + s2*w12 + b1) + e^(s1*w21 + s2*w22 + b2))))*e^(2*s1*w21 + 2*s2*w22 + 2*b2)/(e^(s1*w11 + s2*w12 + b1) + e^(s1*w21 + s2*w22 + b2))^2 + e^(s1*w21 + s2*w22 + b2)/(e^(s1*w11 + s2*w12 + b1) + e^(s1*w21 + s2*w22 + b2)) - e^(s1*w11 + s2*w12 + s1*w21 + s2*w22 + b1 + b2)/(e^(s1*w11 + s2*w12 + b1) + e^(s1*w21 + s2*w22 + b2))^2 - e^(2*s1*w21 + 2*s2*w22 + 2*b2)/(e^(s1*w11 + s2*w12 + b1) + e^(s1*w21 + s2*w22 + b2))^2"
      ]
     },
     "metadata": {},
     "output_type": "display_data"
    }
   ],
   "source": [
    "show(dJ_db2, viwer='pdf')"
   ]
  },
  {
   "cell_type": "markdown",
   "id": "16a4e2cf-8978-4322-babe-e9ecf2954784",
   "metadata": {},
   "source": [
    "And the value loss!"
   ]
  },
  {
   "cell_type": "markdown",
   "id": "1e0df393-134c-4471-9f62-c1ddd5909854",
   "metadata": {},
   "source": [
    "# $\\nabla_{\\theta_{W}}J_{Q}(\\theta)$"
   ]
  },
  {
   "cell_type": "code",
   "execution_count": 16,
   "id": "e7478b70-a0cf-4f58-89e8-6a800552bb92",
   "metadata": {},
   "outputs": [],
   "source": [
    "dJq_dw11 = J_q.diff(w11_v)\n",
    "dJq_dw12 = J_q.diff(w12_v)\n",
    "dJq_dw21 = J_q.diff(w21_v)\n",
    "dJq_dw22 = J_q.diff(w22_v)"
   ]
  },
  {
   "cell_type": "code",
   "execution_count": 17,
   "id": "bc857453-2fd9-4590-ac8b-13c636b9c30f",
   "metadata": {},
   "outputs": [
    {
     "data": {
      "text/html": [
       "<html>\\(\\displaystyle 0\\)</html>"
      ],
      "text/latex": [
       "$\\displaystyle 0$"
      ],
      "text/plain": [
       "0"
      ]
     },
     "metadata": {},
     "output_type": "display_data"
    }
   ],
   "source": [
    "show(dJq_dw11, viwer='pdf')"
   ]
  },
  {
   "cell_type": "code",
   "execution_count": 18,
   "id": "c653590f-0af4-4577-a4c6-a939dae5dcde",
   "metadata": {},
   "outputs": [
    {
     "data": {
      "text/html": [
       "<html>\\(\\displaystyle 0\\)</html>"
      ],
      "text/latex": [
       "$\\displaystyle 0$"
      ],
      "text/plain": [
       "0"
      ]
     },
     "metadata": {},
     "output_type": "display_data"
    }
   ],
   "source": [
    "show(dJq_dw12, viwer='pdf')"
   ]
  },
  {
   "cell_type": "code",
   "execution_count": 19,
   "id": "d658a412-9d39-413c-90a2-2490ea27ac32",
   "metadata": {},
   "outputs": [
    {
     "data": {
      "text/html": [
       "<html>\\(\\displaystyle {\\left(s_{1} \\mathit{w21}_{v} + s_{2} \\mathit{w22}_{v} + \\mathit{b2}_{v} - \\mathit{target}\\right)} s_{1}\\)</html>"
      ],
      "text/latex": [
       "$\\displaystyle {\\left(s_{1} \\mathit{w21}_{v} + s_{2} \\mathit{w22}_{v} + \\mathit{b2}_{v} - \\mathit{target}\\right)} s_{1}$"
      ],
      "text/plain": [
       "(s1*w21_v + s2*w22_v + b2_v - target)*s1"
      ]
     },
     "metadata": {},
     "output_type": "display_data"
    }
   ],
   "source": [
    "show(dJq_dw21, viwer='pdf')"
   ]
  },
  {
   "cell_type": "code",
   "execution_count": 20,
   "id": "9e450ec9-7ebd-405c-bd88-46a3e7474576",
   "metadata": {},
   "outputs": [
    {
     "data": {
      "text/html": [
       "<html>\\(\\displaystyle {\\left(s_{1} \\mathit{w21}_{v} + s_{2} \\mathit{w22}_{v} + \\mathit{b2}_{v} - \\mathit{target}\\right)} s_{2}\\)</html>"
      ],
      "text/latex": [
       "$\\displaystyle {\\left(s_{1} \\mathit{w21}_{v} + s_{2} \\mathit{w22}_{v} + \\mathit{b2}_{v} - \\mathit{target}\\right)} s_{2}$"
      ],
      "text/plain": [
       "(s1*w21_v + s2*w22_v + b2_v - target)*s2"
      ]
     },
     "metadata": {},
     "output_type": "display_data"
    }
   ],
   "source": [
    "show(dJq_dw22, viwer='pdf')"
   ]
  },
  {
   "cell_type": "markdown",
   "id": "0c048807-244e-4105-9bf0-0d4bfb15436f",
   "metadata": {},
   "source": [
    "# $\\nabla_{\\theta_{b}}J_{Q}(\\theta)$"
   ]
  },
  {
   "cell_type": "code",
   "execution_count": 21,
   "id": "eeb0cb36-c99b-452f-a7c9-2c80e19e0ff9",
   "metadata": {},
   "outputs": [],
   "source": [
    "dJq_db1 = J_q.diff(b1_v)\n",
    "dJq_db2 = J_q.diff(b2_v)"
   ]
  },
  {
   "cell_type": "code",
   "execution_count": 22,
   "id": "9f4f3c82-8078-4297-964d-e9956a1c1dc1",
   "metadata": {},
   "outputs": [
    {
     "data": {
      "text/html": [
       "<html>\\(\\displaystyle 0\\)</html>"
      ],
      "text/latex": [
       "$\\displaystyle 0$"
      ],
      "text/plain": [
       "0"
      ]
     },
     "metadata": {},
     "output_type": "display_data"
    }
   ],
   "source": [
    "show(dJq_db1, viwer='pdf')"
   ]
  },
  {
   "cell_type": "code",
   "execution_count": 23,
   "id": "e6150e33-5996-4e3a-b52a-c26e8b89f967",
   "metadata": {},
   "outputs": [
    {
     "data": {
      "text/html": [
       "<html>\\(\\displaystyle s_{1} \\mathit{w21}_{v} + s_{2} \\mathit{w22}_{v} + \\mathit{b2}_{v} - \\mathit{target}\\)</html>"
      ],
      "text/latex": [
       "$\\displaystyle s_{1} \\mathit{w21}_{v} + s_{2} \\mathit{w22}_{v} + \\mathit{b2}_{v} - \\mathit{target}$"
      ],
      "text/plain": [
       "s1*w21_v + s2*w22_v + b2_v - target"
      ]
     },
     "metadata": {},
     "output_type": "display_data"
    }
   ],
   "source": [
    "show(dJq_db2, viwer='pdf')"
   ]
  },
  {
   "cell_type": "markdown",
   "id": "c00e005a-c039-4f09-8074-71875ab33be8",
   "metadata": {},
   "source": [
    "## Simplified Results for Policy"
   ]
  },
  {
   "cell_type": "markdown",
   "id": "15fd76df-f96c-4cd7-93d5-15b896bac986",
   "metadata": {},
   "source": [
    "### Weights"
   ]
  },
  {
   "cell_type": "code",
   "execution_count": 24,
   "id": "e4ae0fd7-3443-435d-8e84-f5f1ad642735",
   "metadata": {},
   "outputs": [
    {
     "data": {
      "text/plain": [
       "0 == 0"
      ]
     },
     "execution_count": 24,
     "metadata": {},
     "output_type": "execute_result"
    }
   ],
   "source": [
    "dJ_dw11_simplified = s1*((q1-log(π[0])-1)*π[0]*(π[0]-1) + (q2-log(π[1])-1)*π[0]*π[1])\n",
    "(dJ_dw11 - dJ_dw11_simplified).full_simplify() == 0 # To confirm results! "
   ]
  },
  {
   "cell_type": "code",
   "execution_count": 25,
   "id": "1642001a-00be-4f45-90c2-6e07f7ff3810",
   "metadata": {},
   "outputs": [
    {
     "data": {
      "text/plain": [
       "0 == 0"
      ]
     },
     "execution_count": 25,
     "metadata": {},
     "output_type": "execute_result"
    }
   ],
   "source": [
    "dJ_dw12_simplified = s2*((q1-log(π[0])-1)*π[0]*(π[0]-1) + (q2-log(π[1])-1)*π[0]*π[1])\n",
    "(dJ_dw12 - dJ_dw12_simplified).full_simplify() == 0"
   ]
  },
  {
   "cell_type": "code",
   "execution_count": 26,
   "id": "b6660d77-59db-41a0-9d71-8eef65a52974",
   "metadata": {},
   "outputs": [
    {
     "data": {
      "text/plain": [
       "0 == 0"
      ]
     },
     "execution_count": 26,
     "metadata": {},
     "output_type": "execute_result"
    }
   ],
   "source": [
    "dJ_dw21_simplified = s1*((q2-log(π[1])-1)*π[1]*(π[1]-1) + (q1-log(π[0])-1)*π[0]*π[1])\n",
    "(dJ_dw21 - dJ_dw21_simplified).full_simplify() == 0"
   ]
  },
  {
   "cell_type": "code",
   "execution_count": 27,
   "id": "7c9e7952-c844-46f9-a344-c4a139f85300",
   "metadata": {},
   "outputs": [
    {
     "data": {
      "text/plain": [
       "0 == 0"
      ]
     },
     "execution_count": 27,
     "metadata": {},
     "output_type": "execute_result"
    }
   ],
   "source": [
    "dJ_dw22_simplified = s2*((q2-log(π[1])-1)*π[1]*(π[1]-1) + (q1-log(π[0])-1)*π[0]*π[1])\n",
    "(dJ_dw21 - dJ_dw21_simplified).full_simplify() == 0"
   ]
  },
  {
   "cell_type": "markdown",
   "id": "c0133bab-78a8-4e58-9647-363153c7ae06",
   "metadata": {},
   "source": [
    "### Bias"
   ]
  },
  {
   "cell_type": "code",
   "execution_count": 28,
   "id": "be562026-c944-44c5-8891-c01a7b062656",
   "metadata": {},
   "outputs": [
    {
     "data": {
      "text/plain": [
       "0 == 0"
      ]
     },
     "execution_count": 28,
     "metadata": {},
     "output_type": "execute_result"
    }
   ],
   "source": [
    "dJ_db1_simplified = (q1-log(π[0])-1)*π[0]*(π[0]-1) + (q2-log(π[1])-1)*π[0]*π[1]\n",
    "(dJ_db1 - dJ_db1_simplified).full_simplify() == 0 # To confirm results! "
   ]
  },
  {
   "cell_type": "code",
   "execution_count": 29,
   "id": "cf386672-7379-46e1-9c45-22ab4956d5d5",
   "metadata": {},
   "outputs": [
    {
     "data": {
      "text/plain": [
       "0 == 0"
      ]
     },
     "execution_count": 29,
     "metadata": {},
     "output_type": "execute_result"
    }
   ],
   "source": [
    "dJ_db2_simplified = (q2-log(π[1])-1)*π[1]*(π[1]-1) + (q1-log(π[0])-1)*π[0]*π[1]\n",
    "(dJ_db2 - dJ_db2_simplified).full_simplify() == 0 # To confirm results! "
   ]
  },
  {
   "cell_type": "markdown",
   "id": "151a1eb6-e03e-4c04-8de2-4ff55a62751b",
   "metadata": {},
   "source": [
    "## PyTorch Experiment"
   ]
  },
  {
   "cell_type": "code",
   "execution_count": 30,
   "id": "622190e5-2066-4f68-87a9-1e7b8ca8d4ff",
   "metadata": {},
   "outputs": [],
   "source": [
    "import numpy as np\n",
    "from scipy.special import softmax"
   ]
  },
  {
   "cell_type": "code",
   "execution_count": 31,
   "id": "a1ede6f1-d802-4833-bff0-962b21c83ee1",
   "metadata": {},
   "outputs": [],
   "source": [
    "def load_weights(path_to_weights):\n",
    "    # actor parameters\n",
    "    actor_weights = {}\n",
    "    for file in os.listdir(path_to_weights):\n",
    "        if 'actor' in file:\n",
    "            param_name = file.replace('actor_', '').replace('.txt', '')\n",
    "            actor_weights[param_name] = np.loadtxt(os.path.join(path_to_weights, file))\n",
    "    \n",
    "    W_actor = actor_weights['simple_fc1.weight']\n",
    "    b_actor = actor_weights['simple_fc1.bias']\n",
    "    \n",
    "    # critic parameters\n",
    "    critic_weights = {}\n",
    "    for file in os.listdir(path_to_weights):\n",
    "        if 'critic' in file:\n",
    "            param_name = file.replace('critic_', '').replace('.txt', '')\n",
    "            critic_weights[param_name] = np.loadtxt(os.path.join(path_to_weights, file))\n",
    "    \n",
    "    W_critic = critic_weights['simple_fc1.weight']\n",
    "    b_critic = critic_weights['simple_fc1.bias']\n",
    "\n",
    "    return {'W_actor': W_actor,\n",
    "            'b_actor': b_actor,\n",
    "            'W_critic': W_critic,\n",
    "            'b_critic': b_critic}"
   ]
  },
  {
   "cell_type": "code",
   "execution_count": 32,
   "id": "563b2b0f-7f19-4ff2-8d0d-47aaed97c00c",
   "metadata": {},
   "outputs": [],
   "source": [
    "path_to_weights = 'weights'\n",
    "weights = load_weights(path_to_weights)"
   ]
  },
  {
   "cell_type": "code",
   "execution_count": 33,
   "id": "d05a5df9-e01f-44f5-a201-751ea256ef52",
   "metadata": {},
   "outputs": [
    {
     "data": {
      "text/plain": [
       "{'W_actor': array([[-0.67553341, -0.46830416],\n",
       "        [-0.29148576,  0.02619374]]),\n",
       " 'b_actor': array([0.27954417, 0.42428023]),\n",
       " 'W_critic': array([[-0.00529397,  0.37932295],\n",
       "        [-0.58198076, -0.52038747]]),\n",
       " 'b_critic': array([-0.27234524,  0.18961591])}"
      ]
     },
     "execution_count": 33,
     "metadata": {},
     "output_type": "execute_result"
    }
   ],
   "source": [
    "weights"
   ]
  },
  {
   "cell_type": "markdown",
   "id": "2bd7e5f0-5a4b-40dd-8d6b-43c53f19ddec",
   "metadata": {},
   "source": [
    "### Policy Loss"
   ]
  },
  {
   "cell_type": "code",
   "execution_count": 34,
   "id": "2886e037-f9a9-4108-9ff6-c9af0d2a8882",
   "metadata": {},
   "outputs": [],
   "source": [
    "state  = np.array([1., 2.])\n",
    "s1, s2 = state\n",
    "\n",
    "π = softmax(weights['W_actor'] @ state + weights['b_actor'])\n",
    "Q = weights['W_critic'] @ state + weights['b_critic']\n",
    "q1, q2 = Q"
   ]
  },
  {
   "cell_type": "code",
   "execution_count": 35,
   "id": "cbbb2068-0a45-4cad-b48b-2bd7b3d9d36c",
   "metadata": {},
   "outputs": [
    {
     "data": {
      "text/plain": [
       "array([[-0.50608809, -1.01217617],\n",
       "       [ 0.50608809,  1.01217617]])"
      ]
     },
     "execution_count": 35,
     "metadata": {},
     "output_type": "execute_result"
    }
   ],
   "source": [
    "# weights\n",
    "del_11 = s1*((q1-log(π[0])-1)*π[0]*(π[0]-1) + (q2-log(π[1])-1)*π[0]*π[1])\n",
    "del_12 = s2*((q1-log(π[0])-1)*π[0]*(π[0]-1) + (q2-log(π[1])-1)*π[0]*π[1])\n",
    "del_21 = s1*((q2-log(π[1])-1)*π[1]*(π[1]-1) + (q1-log(π[0])-1)*π[0]*π[1])\n",
    "del_22 = s2*((q2-log(π[1])-1)*π[1]*(π[1]-1) + (q1-log(π[0])-1)*π[0]*π[1])\n",
    "\n",
    "del_J  = np.array([[del_11, del_12], [del_21, del_22]])\n",
    "del_J"
   ]
  },
  {
   "cell_type": "code",
   "execution_count": 36,
   "id": "d07d0441-5079-413f-a7d0-cd8c3b03ff7d",
   "metadata": {},
   "outputs": [
    {
     "data": {
      "text/plain": [
       "array([-0.50608809, -0.50608809])"
      ]
     },
     "execution_count": 36,
     "metadata": {},
     "output_type": "execute_result"
    }
   ],
   "source": [
    "# bias\n",
    "del_1 = ((q1-log(π[0])-1)*π[0]*(π[0]-1) + (q2-log(π[1])-1)*π[0]*π[1])\n",
    "del_2 = ((q1-log(π[0])-1)*π[0]*(π[0]-1) + (q2-log(π[1])-1)*π[0]*π[1])\n",
    "\n",
    "del_J  = np.array([del_1, del_2])\n",
    "del_J"
   ]
  },
  {
   "cell_type": "markdown",
   "id": "8b122ded-2500-480a-bbf1-6b9025c47ee0",
   "metadata": {},
   "source": [
    "### Value Loss"
   ]
  },
  {
   "cell_type": "markdown",
   "id": "12274534-d988-4b86-bd25-789fbeb2b0be",
   "metadata": {},
   "source": [
    "the sampled action (we used argmax) is:"
   ]
  },
  {
   "cell_type": "code",
   "execution_count": 37,
   "id": "9a337b13-27d9-4d60-b869-7175530272cc",
   "metadata": {},
   "outputs": [
    {
     "data": {
      "text/plain": [
       "1"
      ]
     },
     "execution_count": 37,
     "metadata": {},
     "output_type": "execute_result"
    }
   ],
   "source": [
    "np.argmax(π) # we used this value in the 'sampled action'"
   ]
  },
  {
   "cell_type": "code",
   "execution_count": 38,
   "id": "1b114c61-ce66-46e6-88f3-cc5a3c43022d",
   "metadata": {},
   "outputs": [],
   "source": [
    "γ = 0.99\n",
    "λ = 1\n",
    "\n",
    "reward      = 2\n",
    "next_state  = np.array([0.90929743, 0.14112001]) # sampled from the text environment\n",
    "next_π      = softmax(weights['W_actor'] @ next_state + weights['b_actor'])\n",
    "next_action = np.argmax(next_π)\n",
    "next_q      = weights['W_critic'] @ next_state + weights['b_critic']\n",
    "\n",
    "target = reward + λ*(next_q[next_action] - λ * log(next_π[next_action]))"
   ]
  },
  {
   "cell_type": "code",
   "execution_count": 39,
   "id": "c8a9aea8-33b2-4a7a-bc87-5fd46d342e6c",
   "metadata": {},
   "outputs": [
    {
     "data": {
      "text/plain": [
       "array([[ 0.        ,  0.        ],\n",
       "       [-3.47061487, -6.94122974]])"
      ]
     },
     "execution_count": 39,
     "metadata": {},
     "output_type": "execute_result"
    }
   ],
   "source": [
    "# weights\n",
    "delq_11 = 0\n",
    "delq_12 = 0\n",
    "delq_21 = s1*(Q[sa] - target)\n",
    "delq_22 = s2*(Q[sa] - target)\n",
    "\n",
    "delq_J  = np.array([[delq_11, delq_12], [delq_21, delq_22]])\n",
    "delq_J"
   ]
  },
  {
   "cell_type": "code",
   "execution_count": 40,
   "id": "589a1746-ddc5-4f4f-9fe1-80122c9da346",
   "metadata": {},
   "outputs": [
    {
     "data": {
      "text/plain": [
       "array([ 0.        , -3.47061487])"
      ]
     },
     "execution_count": 40,
     "metadata": {},
     "output_type": "execute_result"
    }
   ],
   "source": [
    "delq_1 = 0\n",
    "delq_2 = (Q[sa] - target)\n",
    "\n",
    "delq_J  = np.array([delq_1, delq_2])\n",
    "delq_J"
   ]
  }
 ],
 "metadata": {
  "kernelspec": {
   "display_name": "SageMath 9.8",
   "language": "sage",
   "name": "sagemath-9.8"
  },
  "language_info": {
   "codemirror_mode": {
    "name": "ipython",
    "version": 3
   },
   "file_extension": ".py",
   "mimetype": "text/x-python",
   "name": "python",
   "nbconvert_exporter": "python",
   "pygments_lexer": "ipython3",
   "version": "3.11.1"
  }
 },
 "nbformat": 4,
 "nbformat_minor": 5
}
