{
 "cells": [
  {
   "cell_type": "code",
   "execution_count": 1,
   "id": "f1abeea3-99bf-4421-ab19-ca13b0ff7bea",
   "metadata": {},
   "outputs": [],
   "source": [
    "import numpy as np\n",
    "import torch\n",
    "import torch.nn as nn\n",
    "import torch.nn.functional as F\n",
    "import os\n",
    "import matplotlib.pyplot as plt\n",
    "from environment import test_env"
   ]
  },
  {
   "cell_type": "markdown",
   "id": "97ccb2a0-3b82-48a9-9eac-f28c36f8d8c9",
   "metadata": {},
   "source": [
    "Auxiliary Functions"
   ]
  },
  {
   "cell_type": "code",
   "execution_count": 2,
   "id": "7ba10b7a-773f-496d-9f7e-25a8696f217d",
   "metadata": {},
   "outputs": [],
   "source": [
    "def load_weights(path_to_weights):\n",
    "    # actor parameters\n",
    "    actor_weights = {}\n",
    "    for file in os.listdir(path_to_weights):\n",
    "        if 'actor' in file:\n",
    "            param_name = file.replace('actor_', '').replace('.txt', '')\n",
    "            actor_weights[param_name] = np.loadtxt(os.path.join(path_to_weights, file))\n",
    "    \n",
    "    W_actor = actor_weights['simple_fc1.weight']\n",
    "    b_actor = actor_weights['simple_fc1.bias']\n",
    "    \n",
    "    # critic parameters\n",
    "    critic_weights = {}\n",
    "    for file in os.listdir(path_to_weights):\n",
    "        if 'critic' in file:\n",
    "            param_name = file.replace('critic_', '').replace('.txt', '')\n",
    "            critic_weights[param_name] = np.loadtxt(os.path.join(path_to_weights, file))\n",
    "    \n",
    "    W_critic = critic_weights['simple_fc1.weight']\n",
    "    b_critic = critic_weights['simple_fc1.bias']\n",
    "\n",
    "    return {'W_actor': W_actor,\n",
    "            'b_actor': b_actor,\n",
    "            'W_critic': W_critic,\n",
    "            'b_critic': b_critic}"
   ]
  },
  {
   "cell_type": "code",
   "execution_count": 3,
   "id": "6b1f66f1-5d44-4284-9036-b85555020cae",
   "metadata": {},
   "outputs": [],
   "source": [
    "def log_alpha(π, α=1):\n",
    "    if α == 1:\n",
    "        return torch.log(π)\n",
    "    else:\n",
    "        return (torch.pow(π, α-1)-1)/(α * (α-1))\n",
    "\n",
    "def Tsallis_Entropy(π, α=1):\n",
    "        return - π * log_alpha(π, α)"
   ]
  },
  {
   "cell_type": "markdown",
   "id": "abe79c03-bffd-4693-8e1d-f259154ba1e1",
   "metadata": {},
   "source": [
    "Actor and Critic classes"
   ]
  },
  {
   "cell_type": "code",
   "execution_count": 4,
   "id": "11388676-01cd-4c9e-8324-1e1524b2a45a",
   "metadata": {},
   "outputs": [],
   "source": [
    "class Actor(nn.Module):\n",
    "    def __init__(self, input_size, output_size):\n",
    "        super(Actor, self).__init__()\n",
    "        self.fc1 = nn.Linear(input_size, output_size)\n",
    "        \n",
    "    def forward(self, x):\n",
    "        x = self.fc1(x)\n",
    "        return F.softmax(x, dim=0)\n",
    "\n",
    "class Critic(nn.Module):\n",
    "    def __init__(self, input_size, output_size):\n",
    "        super(Critic, self).__init__()\n",
    "        self.fc1 = nn.Linear(input_size, output_size)\n",
    "        \n",
    "    def forward(self, x):\n",
    "        return self.fc1(x)"
   ]
  },
  {
   "cell_type": "code",
   "execution_count": 5,
   "id": "404ca42e-fe3c-444d-a8fe-82546acbc18e",
   "metadata": {},
   "outputs": [],
   "source": [
    "path_to_weights = 'weights'\n",
    "weights = load_weights(path_to_weights) # we have to copy when passing as constructor, because of inplace operations!"
   ]
  },
  {
   "cell_type": "markdown",
   "id": "b9e02703-020e-4a75-8f9c-e33cbec72a37",
   "metadata": {},
   "source": [
    "# Global Variables"
   ]
  },
  {
   "cell_type": "code",
   "execution_count": 6,
   "id": "acd55d6d-692c-4506-9b01-ee1f20f3cf88",
   "metadata": {},
   "outputs": [],
   "source": [
    "# Global Variables\n",
    "\n",
    "γ = 0.99 # discount factor\n",
    "α = 1\n",
    "λ = 1\n",
    "\n",
    "lr = 1e-3 # learning rate\n",
    "n_iterations = 1\n",
    "\n",
    "print_grads = True"
   ]
  },
  {
   "cell_type": "code",
   "execution_count": 7,
   "id": "5d3962de-661d-4a96-8d6c-5322a68b8370",
   "metadata": {},
   "outputs": [],
   "source": [
    "auto_grad_ploss = list()\n",
    "anal_grad_ploss = list()"
   ]
  },
  {
   "cell_type": "markdown",
   "id": "67c4c214-d474-4d23-98bb-371a24ce7d35",
   "metadata": {},
   "source": [
    "# Numerical Results"
   ]
  },
  {
   "cell_type": "code",
   "execution_count": 8,
   "id": "e8fb40d3-e08c-4dd7-abac-472ebf8fca3e",
   "metadata": {},
   "outputs": [],
   "source": [
    "n_actions = len(weights['b_actor'])\n",
    "\n",
    "# Initialize the networks\n",
    "actor  = Actor(n_actions, n_actions)\n",
    "critic = Critic(n_actions, n_actions)\n",
    "\n",
    "# Set the weights for the actor\n",
    "actor.fc1.weight.data = torch.from_numpy(weights['W_actor'].copy())\n",
    "actor.fc1.bias.data = torch.from_numpy(weights['b_actor'].copy())\n",
    "\n",
    "# Set the weights for the critic\n",
    "critic.fc1.weight.data = torch.from_numpy(weights['W_critic'].copy())\n",
    "critic.fc1.bias.data = torch.from_numpy(weights['b_critic'].copy())\n",
    "\n",
    "# Define the optimizers\n",
    "actor_optimizer = torch.optim.SGD(actor.parameters(), lr=lr)\n",
    "critic_optimizer = torch.optim.SGD(critic.parameters(), lr=lr)"
   ]
  },
  {
   "cell_type": "code",
   "execution_count": 9,
   "id": "5c93720a-059a-4b38-865f-37ab9a72b6d1",
   "metadata": {},
   "outputs": [
    {
     "name": "stdout",
     "output_type": "stream",
     "text": [
      "-- Actor --\n",
      "\n",
      "Actor weights' gradient:\n",
      "\n",
      "[[-0.50608809 -1.01217617]\n",
      " [ 0.50608809  1.01217617]]\n",
      "\n",
      "\n",
      "Actor bias' gradient:\n",
      "\n",
      "[-0.50608809  0.50608809]\n",
      "\n",
      "\n",
      "-- Critic --\n",
      "\n",
      "Critic weights' gradient:\n",
      "\n",
      "[[ 0.          0.        ]\n",
      " [-3.47024012 -6.94048025]]\n",
      "\n",
      "\n",
      "Critic bias' gradient:\n",
      "\n",
      "[ 0.         -3.47024012]\n"
     ]
    }
   ],
   "source": [
    "env = test_env(n_actions)\n",
    "\n",
    "# initialize environment\n",
    "state = env.reset()\n",
    "\n",
    "# store p_loss values\n",
    "auto_grad_ploss = list()\n",
    "\n",
    "for _ in range(n_iterations):\n",
    "    # Environment step\n",
    "    policy = actor(torch.tensor(state))\n",
    "    action = torch.argmax(policy.detach(), dim=0)\n",
    "    \n",
    "    next_state, reward, _, _ = env.step(action)\n",
    "    \n",
    "    # Gradient step\n",
    "    \n",
    "    # Critic\n",
    "    with torch.no_grad():\n",
    "        next_qvals  = critic.forward(torch.tensor(next_state)) \n",
    "        next_policy = actor.forward(torch.tensor(next_state))\n",
    "        next_action = torch.argmax(next_policy, dim=0)\n",
    "    \n",
    "        target = reward + γ * (next_qvals[next_action] - (λ/α) * log_alpha(next_policy[next_action]))\n",
    "    \n",
    "    qvals  = critic.forward(torch.tensor(state))\n",
    "    v_loss = F.mse_loss(qvals[action], target)/2\n",
    "    \n",
    "    # Actor\n",
    "    linear_term  = policy * qvals.detach()\n",
    "    entropy_term = Tsallis_Entropy(policy, α) # Shannon Entropy\n",
    "    \n",
    "    p_loss = -torch.sum(linear_term + entropy_term)\n",
    "\n",
    "    auto_grad_ploss.append(p_loss.item())\n",
    "    \n",
    "    # Reset the gradients\n",
    "    actor_optimizer.zero_grad()\n",
    "    critic_optimizer.zero_grad()\n",
    "    \n",
    "    # backward pass\n",
    "    v_loss.backward()\n",
    "    p_loss.backward()\n",
    "\n",
    "    if print_grads == True:\n",
    "        print(\"-- Actor --\\n\")\n",
    "        print(\"Actor weights' gradient:\\n\")\n",
    "        print(actor.fc1.weight.grad.numpy())\n",
    "        \n",
    "        print('\\n')\n",
    "        \n",
    "        print(\"Actor bias' gradient:\\n\")\n",
    "        print(actor.fc1.bias.grad.numpy())\n",
    "\n",
    "        print(\"\\n\\n-- Critic --\\n\")\n",
    "        print(\"Critic weights' gradient:\\n\")\n",
    "        print(critic.fc1.weight.grad.numpy())\n",
    "        \n",
    "        print('\\n')\n",
    "        \n",
    "        print(\"Critic bias' gradient:\\n\")\n",
    "        print(critic.fc1.bias.grad.numpy())\n",
    "    \n",
    "    # Update the weights\n",
    "    actor_optimizer.step()\n",
    "    critic_optimizer.step()"
   ]
  },
  {
   "cell_type": "code",
   "execution_count": 10,
   "id": "0105daab-9d72-4b96-8ff1-67ec70974f75",
   "metadata": {},
   "outputs": [
    {
     "data": {
      "text/plain": [
       "[<matplotlib.lines.Line2D at 0x11f8aba50>]"
      ]
     },
     "execution_count": 10,
     "metadata": {},
     "output_type": "execute_result"
    },
    {
     "data": {
      "image/png": "[encoded data removed]",
      "text/plain": [
       "<Figure size 640x480 with 1 Axes>"
      ]
     },
     "metadata": {},
     "output_type": "display_data"
    }
   ],
   "source": [
    "plt.plot(auto_grad_ploss)"
   ]
  },
  {
   "cell_type": "markdown",
   "id": "ce177163-017b-473a-a913-896561463cfc",
   "metadata": {},
   "source": [
    "# Analytical Results"
   ]
  },
  {
   "cell_type": "code",
   "execution_count": 11,
   "id": "a58c4635-d882-444d-a230-00bf7d082fba",
   "metadata": {},
   "outputs": [],
   "source": [
    "class AActor():\n",
    "    def __init__(self, weights, bias):\n",
    "        self.W = torch.tensor(weights, requires_grad=False)\n",
    "        self.b = torch.tensor(bias, requires_grad=False)\n",
    "        \n",
    "    def forward(self, state):\n",
    "        return torch.nn.functional.softmax(self.W @ state + self.b, dim=0)\n",
    "\n",
    "class ACritic():\n",
    "    def __init__(self, weights, bias):\n",
    "        self.W = torch.tensor(weights, requires_grad=False)\n",
    "        self.b = torch.tensor(bias, requires_grad=False)\n",
    "        \n",
    "    def forward(self, state):\n",
    "        return self.W @ state + self.b"
   ]
  },
  {
   "cell_type": "code",
   "execution_count": 12,
   "id": "fef1b2a4-05d1-4f5e-aa12-4408f32607d1",
   "metadata": {},
   "outputs": [],
   "source": [
    "n_actions = len(weights['b_actor'])\n",
    "\n",
    "aactor  = AActor(weights['W_actor'], weights['b_actor'])\n",
    "acritic = ACritic(weights['W_critic'], weights['b_critic'])"
   ]
  },
  {
   "cell_type": "code",
   "execution_count": 13,
   "id": "2e97df5a-a596-4d1e-9b06-72743b69d72c",
   "metadata": {},
   "outputs": [
    {
     "name": "stdout",
     "output_type": "stream",
     "text": [
      "-- Actor --\n",
      "\n",
      "Actor weights' gradient:\n",
      "\n",
      "[[-0.50608809 -1.01217617]\n",
      " [ 0.50608809  1.01217617]]\n",
      "\n",
      "\n",
      "Actor bias' gradient:\n",
      "\n",
      "[-0.50608809  0.50608809]\n",
      "-- Critic --\n",
      "\n",
      "Critic weights' gradient:\n",
      "\n",
      "[[-0.         -0.        ]\n",
      " [-3.47024012 -6.94048025]]\n",
      "\n",
      "\n",
      "Critic bias' gradient:\n",
      "\n",
      "[-0.         -3.47024012]\n"
     ]
    }
   ],
   "source": [
    "env = test_env(n_actions)\n",
    "\n",
    "# initialize environment\n",
    "state = env.reset()\n",
    "\n",
    "# store p_loss values\n",
    "anal_grad_ploss = list()\n",
    "\n",
    "for _ in range(n_iterations):\n",
    "    # -- Environment step --\n",
    "    policy = aactor.forward(torch.tensor(state))\n",
    "    action = torch.argmax(policy.detach(), dim=0)\n",
    "    \n",
    "    next_state, reward, _, _ = env.step(action)\n",
    "    \n",
    "    # -- Gradient step --\n",
    "    \n",
    "    # Critic\n",
    "    next_qvals  = acritic.forward(torch.tensor(next_state)) \n",
    "    next_policy = aactor.forward(torch.tensor(next_state))\n",
    "    next_action = torch.argmax(next_policy, dim=0)\n",
    "    \n",
    "    target = reward + γ * (next_qvals[next_action] - (λ/α) * log_alpha(next_policy[next_action]))\n",
    "    \n",
    "    qvals  = acritic.forward(torch.tensor(state))\n",
    "\n",
    "    # gradient \\nabla_{\\theta}Q_{\\theta}\n",
    "    # one-hot matrix\n",
    "    one_hot_matrix = np.zeros((n_actions, n_actions))\n",
    "    one_hot_matrix[action, :] = np.ones(n_actions)\n",
    "    \n",
    "    one_hot_vector = np.zeros(n_actions)\n",
    "    one_hot_vector[action] = 1\n",
    "    \n",
    "    # element-wise multiplication\n",
    "    delw_C = (one_hot_matrix) * (qvals[action].numpy() - target.numpy()) * np.array([state for i in range(n_actions)])\n",
    "    delb_C = (one_hot_vector) * (qvals[action].numpy() - target.numpy()) * np.ones(n_actions)\n",
    "    \n",
    "    # Actor\n",
    "    linear_term  = policy * qvals.detach()\n",
    "    entropy_term = Tsallis_Entropy(policy, α) # Shannon Entropy\n",
    "    \n",
    "    p_loss = -torch.sum(linear_term + entropy_term)\n",
    "    anal_grad_ploss.append(p_loss.item())\n",
    "\n",
    "    grad_soft = np.diag(policy) - np.outer(policy, policy)\n",
    "    delw_A = -(qvals.numpy() - np.log(policy).numpy() - 1) * grad_soft @ np.array([state for i in range(n_actions)])\n",
    "    delb_A = -(qvals.numpy() - np.log(policy).numpy() - 1) * grad_soft @ np.ones(n_actions)\n",
    "\n",
    "    \n",
    "    # Gradient descent\n",
    "    aactor.W -= torch.tensor(lr * delw_A)\n",
    "    aactor.b -= torch.tensor(lr * delb_A)\n",
    "\n",
    "    acritic.W -= torch.tensor(lr * delw_C)\n",
    "    acritic.b -= torch.tensor(lr * delb_C)\n",
    "\n",
    "    if print_grads == True:\n",
    "        print(\"-- Actor --\\n\")\n",
    "        print(\"Actor weights' gradient:\\n\")\n",
    "        print(delw_A)\n",
    "        \n",
    "        print('\\n')\n",
    "        \n",
    "        print(\"Actor bias' gradient:\\n\")\n",
    "        print(delb_A)\n",
    "\n",
    "        print(\"-- Critic --\\n\")\n",
    "        print(\"Critic weights' gradient:\\n\")\n",
    "        print(delw_C)\n",
    "        \n",
    "        print('\\n')\n",
    "        \n",
    "        print(\"Critic bias' gradient:\\n\")\n",
    "        print(delb_C)"
   ]
  },
  {
   "cell_type": "code",
   "execution_count": 14,
   "id": "577c6e85-fa43-442e-a4d1-fbf56d4d6015",
   "metadata": {},
   "outputs": [
    {
     "data": {
      "text/plain": [
       "[<matplotlib.lines.Line2D at 0x11f8f0510>]"
      ]
     },
     "execution_count": 14,
     "metadata": {},
     "output_type": "execute_result"
    },
    {
     "data": {
      "image/png": "[encoded data removed]",
      "text/plain": [
       "<Figure size 640x480 with 1 Axes>"
      ]
     },
     "metadata": {},
     "output_type": "display_data"
    }
   ],
   "source": [
    "plt.plot(anal_grad_ploss)"
   ]
  },
  {
   "cell_type": "markdown",
   "id": "f14321cb-6486-4239-8d6b-1dcc492d0994",
   "metadata": {},
   "source": [
    "# Comparing both methods"
   ]
  },
  {
   "cell_type": "code",
   "execution_count": 15,
   "id": "5ca81501-b80f-435b-953b-ad0f5fc1968a",
   "metadata": {},
   "outputs": [
    {
     "name": "stdout",
     "output_type": "stream",
     "text": [
      "0.0\n",
      "0.0\n"
     ]
    }
   ],
   "source": [
    "dist = np.array(anal_grad_ploss) - np.array(anal_grad_ploss)\n",
    "print(dist.mean())\n",
    "print(dist.std())"
   ]
  }
 ],
 "metadata": {
  "kernelspec": {
   "display_name": "rqn_pytorch",
   "language": "python",
   "name": "rqn_pytorch"
  },
  "language_info": {
   "codemirror_mode": {
    "name": "ipython",
    "version": 3
   },
   "file_extension": ".py",
   "mimetype": "text/x-python",
   "name": "python",
   "nbconvert_exporter": "python",
   "pygments_lexer": "ipython3",
   "version": "3.11.4"
  }
 },
 "nbformat": 4,
 "nbformat_minor": 5
}
