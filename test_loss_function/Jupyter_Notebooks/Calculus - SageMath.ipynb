{
 "cells": [
  {
   "cell_type": "code",
   "execution_count": 1,
   "id": "ad249310-b3a4-4a48-b8d2-455aabf06d12",
   "metadata": {},
   "outputs": [],
   "source": [
    "import numpy as np"
   ]
  },
  {
   "cell_type": "markdown",
   "id": "28a4d763-b209-4f6a-94b2-1d22ef255970",
   "metadata": {},
   "source": [
    "Notation:\n",
    "\n",
    "- $S_t = [S_1, S_2]$\n",
    "- $\\mathcal{A} \\in \\{a_1, a_2\\}$\n",
    "- $\\pi_{\\psi}(a_i\\mid s_t) \\coloneqq \\pi_i(s_t)$"
   ]
  },
  {
   "cell_type": "markdown",
   "id": "3e4c379a-d675-4f72-99d5-c210aaabbbbf",
   "metadata": {},
   "source": [
    "We're having problems computing the gradient of the policy loss. This notebook will serve as validation of analytical calculation results"
   ]
  },
  {
   "cell_type": "markdown",
   "id": "bbc4787d-e3a9-4df0-aeed-682c8bc2c919",
   "metadata": {},
   "source": [
    "We'll start by defining the variables for the $Q_{\\theta}(s_t, a_t)$ function. As these aren't a function of parameters $\\psi$, we'll create them as standalone variables."
   ]
  },
  {
   "cell_type": "code",
   "execution_count": 2,
   "id": "3efb650a-3679-4d12-be17-848878a448d0",
   "metadata": {},
   "outputs": [],
   "source": [
    "Q = var('q1 q2')"
   ]
  },
  {
   "cell_type": "markdown",
   "id": "7e9238bd-a6d8-4a3d-bf4f-0e8df0306f21",
   "metadata": {},
   "source": [
    "We now define the variables that make up the policy, according to the ANN architecture"
   ]
  },
  {
   "cell_type": "code",
   "execution_count": 12,
   "id": "0a8c8360-7019-4e99-bb57-17e86d4a85ec",
   "metadata": {},
   "outputs": [],
   "source": [
    "W = var('w11 w12 w21 w22') # weights\n",
    "b = var('b1 b2')           # bias\n",
    "S = var('s1 s2')           # state\n",
    "\n",
    "# output layer\n",
    "z = [S[0]*W[0] + S[0]*W[1] + b[0], \n",
    "     S[1]*W[2] + S[1]*W[3] + b[1]]\n",
    "\n",
    "# softmax activation function\n",
    "def softmax(z, i):\n",
    "    return exp(z[i]) / sum(exp(z[j]) for j in range(len(z)))\n",
    "    \n",
    "# output layer after activation function\n",
    "π = [softmax(z, i) for i in range(len(z))]"
   ]
  },
  {
   "cell_type": "code",
   "execution_count": 13,
   "id": "76ca56d1-47a2-4fe1-ac0d-f4ff98d9ff4c",
   "metadata": {},
   "outputs": [
    {
     "data": {
      "text/html": [
       "<html>\\(\\displaystyle \\left[\\frac{e^{\\left(s_{1} w_{11} + s_{1} w_{12} + b_{1}\\right)}}{e^{\\left(s_{1} w_{11} + s_{1} w_{12} + b_{1}\\right)} + e^{\\left(s_{2} w_{21} + s_{2} w_{22} + b_{2}\\right)}}, \\frac{e^{\\left(s_{2} w_{21} + s_{2} w_{22} + b_{2}\\right)}}{e^{\\left(s_{1} w_{11} + s_{1} w_{12} + b_{1}\\right)} + e^{\\left(s_{2} w_{21} + s_{2} w_{22} + b_{2}\\right)}}\\right]\\)</html>"
      ],
      "text/latex": [
       "$\\displaystyle \\left[\\frac{e^{\\left(s_{1} w_{11} + s_{1} w_{12} + b_{1}\\right)}}{e^{\\left(s_{1} w_{11} + s_{1} w_{12} + b_{1}\\right)} + e^{\\left(s_{2} w_{21} + s_{2} w_{22} + b_{2}\\right)}}, \\frac{e^{\\left(s_{2} w_{21} + s_{2} w_{22} + b_{2}\\right)}}{e^{\\left(s_{1} w_{11} + s_{1} w_{12} + b_{1}\\right)} + e^{\\left(s_{2} w_{21} + s_{2} w_{22} + b_{2}\\right)}}\\right]$"
      ],
      "text/plain": [
       "[e^(s1*w11 + s1*w12 + b1)/(e^(s1*w11 + s1*w12 + b1) + e^(s2*w21 + s2*w22 + b2)),\n",
       " e^(s2*w21 + s2*w22 + b2)/(e^(s1*w11 + s1*w12 + b1) + e^(s2*w21 + s2*w22 + b2))]"
      ]
     },
     "metadata": {},
     "output_type": "display_data"
    }
   ],
   "source": [
    "show(π, viwer='pdf') # render output in latex"
   ]
  },
  {
   "cell_type": "markdown",
   "id": "c9a43375-161b-4338-a09e-2d84a6656876",
   "metadata": {},
   "source": [
    "We compute partial deliveries as such:"
   ]
  },
  {
   "cell_type": "code",
   "execution_count": 14,
   "id": "ee9764d5-5f2b-4bac-96c7-d0993f44c7d6",
   "metadata": {},
   "outputs": [
    {
     "data": {
      "text/html": [
       "<html>\\(\\displaystyle \\left[s_{1}, 0\\right]\\)</html>"
      ],
      "text/latex": [
       "$\\displaystyle \\left[s_{1}, 0\\right]$"
      ],
      "text/plain": [
       "[s1, 0]"
      ]
     },
     "metadata": {},
     "output_type": "display_data"
    }
   ],
   "source": [
    "# differentiate each element in z with respect to w11\n",
    "dz_dw11 = [zi.diff(w11) for zi in z]\n",
    "show(dz_dw11, viwer='pdf')"
   ]
  },
  {
   "cell_type": "code",
   "execution_count": 15,
   "id": "58ec9b7d-c834-45bd-9c9c-f5b767083fdd",
   "metadata": {},
   "outputs": [
    {
     "data": {
      "text/html": [
       "<html>\\(\\displaystyle -\\frac{{\\left(q_{1} - \\log\\left(\\frac{e^{\\left(s_{1} w_{11} + s_{1} w_{12} + b_{1}\\right)}}{e^{\\left(s_{1} w_{11} + s_{1} w_{12} + b_{1}\\right)} + e^{\\left(s_{2} w_{21} + s_{2} w_{22} + b_{2}\\right)}}\\right)\\right)} e^{\\left(s_{1} w_{11} + s_{1} w_{12} + b_{1}\\right)}}{e^{\\left(s_{1} w_{11} + s_{1} w_{12} + b_{1}\\right)} + e^{\\left(s_{2} w_{21} + s_{2} w_{22} + b_{2}\\right)}} - \\frac{{\\left(q_{2} - \\log\\left(\\frac{e^{\\left(s_{2} w_{21} + s_{2} w_{22} + b_{2}\\right)}}{e^{\\left(s_{1} w_{11} + s_{1} w_{12} + b_{1}\\right)} + e^{\\left(s_{2} w_{21} + s_{2} w_{22} + b_{2}\\right)}}\\right)\\right)} e^{\\left(s_{2} w_{21} + s_{2} w_{22} + b_{2}\\right)}}{e^{\\left(s_{1} w_{11} + s_{1} w_{12} + b_{1}\\right)} + e^{\\left(s_{2} w_{21} + s_{2} w_{22} + b_{2}\\right)}}\\)</html>"
      ],
      "text/latex": [
       "$\\displaystyle -\\frac{{\\left(q_{1} - \\log\\left(\\frac{e^{\\left(s_{1} w_{11} + s_{1} w_{12} + b_{1}\\right)}}{e^{\\left(s_{1} w_{11} + s_{1} w_{12} + b_{1}\\right)} + e^{\\left(s_{2} w_{21} + s_{2} w_{22} + b_{2}\\right)}}\\right)\\right)} e^{\\left(s_{1} w_{11} + s_{1} w_{12} + b_{1}\\right)}}{e^{\\left(s_{1} w_{11} + s_{1} w_{12} + b_{1}\\right)} + e^{\\left(s_{2} w_{21} + s_{2} w_{22} + b_{2}\\right)}} - \\frac{{\\left(q_{2} - \\log\\left(\\frac{e^{\\left(s_{2} w_{21} + s_{2} w_{22} + b_{2}\\right)}}{e^{\\left(s_{1} w_{11} + s_{1} w_{12} + b_{1}\\right)} + e^{\\left(s_{2} w_{21} + s_{2} w_{22} + b_{2}\\right)}}\\right)\\right)} e^{\\left(s_{2} w_{21} + s_{2} w_{22} + b_{2}\\right)}}{e^{\\left(s_{1} w_{11} + s_{1} w_{12} + b_{1}\\right)} + e^{\\left(s_{2} w_{21} + s_{2} w_{22} + b_{2}\\right)}}$"
      ],
      "text/plain": [
       "-(q1 - log(e^(s1*w11 + s1*w12 + b1)/(e^(s1*w11 + s1*w12 + b1) + e^(s2*w21 + s2*w22 + b2))))*e^(s1*w11 + s1*w12 + b1)/(e^(s1*w11 + s1*w12 + b1) + e^(s2*w21 + s2*w22 + b2)) - (q2 - log(e^(s2*w21 + s2*w22 + b2)/(e^(s1*w11 + s1*w12 + b1) + e^(s2*w21 + s2*w22 + b2))))*e^(s2*w21 + s2*w22 + b2)/(e^(s1*w11 + s1*w12 + b1) + e^(s2*w21 + s2*w22 + b2))"
      ]
     },
     "metadata": {},
     "output_type": "display_data"
    }
   ],
   "source": [
    "# negative expected regularized reward\n",
    "J_π = -(π[0]*(Q[0] - log(π[0])) + π[1]*(Q[1] - log(π[1])))\n",
    "show(J_π, viwer='pdf')"
   ]
  },
  {
   "cell_type": "markdown",
   "id": "05c95213-e756-4b30-a95a-a907567740bf",
   "metadata": {},
   "source": [
    "We now have everything ready to compute the policy loss!"
   ]
  },
  {
   "cell_type": "markdown",
   "id": "27d2e072-6776-4464-abda-65d5b85f1943",
   "metadata": {},
   "source": [
    "# $\\nabla_{\\psi_{W}}J_{\\pi}(\\psi)$"
   ]
  },
  {
   "cell_type": "code",
   "execution_count": 16,
   "id": "f1567fa9-fa53-4c8d-920b-635b47982f89",
   "metadata": {},
   "outputs": [],
   "source": [
    "dJ_dw11 = J_π.diff(w11)\n",
    "dJ_dw12 = J_π.diff(w12)\n",
    "dJ_dw21 = J_π.diff(w21)\n",
    "dJ_dw22 = J_π.diff(w22)"
   ]
  },
  {
   "cell_type": "code",
   "execution_count": 17,
   "id": "19e5c740-fd69-4f61-9fe5-e1d1063043ac",
   "metadata": {},
   "outputs": [
    {
     "data": {
      "text/html": [
       "<html>\\(\\displaystyle -\\frac{{\\left(q_{1} - \\log\\left(\\frac{e^{\\left(s_{1} w_{11} + s_{1} w_{12} + b_{1}\\right)}}{e^{\\left(s_{1} w_{11} + s_{1} w_{12} + b_{1}\\right)} + e^{\\left(s_{2} w_{21} + s_{2} w_{22} + b_{2}\\right)}}\\right)\\right)} s_{1} e^{\\left(s_{1} w_{11} + s_{1} w_{12} + b_{1}\\right)}}{e^{\\left(s_{1} w_{11} + s_{1} w_{12} + b_{1}\\right)} + e^{\\left(s_{2} w_{21} + s_{2} w_{22} + b_{2}\\right)}} + \\frac{{\\left(q_{1} - \\log\\left(\\frac{e^{\\left(s_{1} w_{11} + s_{1} w_{12} + b_{1}\\right)}}{e^{\\left(s_{1} w_{11} + s_{1} w_{12} + b_{1}\\right)} + e^{\\left(s_{2} w_{21} + s_{2} w_{22} + b_{2}\\right)}}\\right)\\right)} s_{1} e^{\\left(2 \\, s_{1} w_{11} + 2 \\, s_{1} w_{12} + 2 \\, b_{1}\\right)}}{{\\left(e^{\\left(s_{1} w_{11} + s_{1} w_{12} + b_{1}\\right)} + e^{\\left(s_{2} w_{21} + s_{2} w_{22} + b_{2}\\right)}\\right)}^{2}} + \\frac{{\\left(q_{2} - \\log\\left(\\frac{e^{\\left(s_{2} w_{21} + s_{2} w_{22} + b_{2}\\right)}}{e^{\\left(s_{1} w_{11} + s_{1} w_{12} + b_{1}\\right)} + e^{\\left(s_{2} w_{21} + s_{2} w_{22} + b_{2}\\right)}}\\right)\\right)} s_{1} e^{\\left(s_{1} w_{11} + s_{1} w_{12} + s_{2} w_{21} + s_{2} w_{22} + b_{1} + b_{2}\\right)}}{{\\left(e^{\\left(s_{1} w_{11} + s_{1} w_{12} + b_{1}\\right)} + e^{\\left(s_{2} w_{21} + s_{2} w_{22} + b_{2}\\right)}\\right)}^{2}} + \\frac{s_{1} e^{\\left(s_{1} w_{11} + s_{1} w_{12} + b_{1}\\right)}}{e^{\\left(s_{1} w_{11} + s_{1} w_{12} + b_{1}\\right)} + e^{\\left(s_{2} w_{21} + s_{2} w_{22} + b_{2}\\right)}} - \\frac{s_{1} e^{\\left(2 \\, s_{1} w_{11} + 2 \\, s_{1} w_{12} + 2 \\, b_{1}\\right)}}{{\\left(e^{\\left(s_{1} w_{11} + s_{1} w_{12} + b_{1}\\right)} + e^{\\left(s_{2} w_{21} + s_{2} w_{22} + b_{2}\\right)}\\right)}^{2}} - \\frac{s_{1} e^{\\left(s_{1} w_{11} + s_{1} w_{12} + s_{2} w_{21} + s_{2} w_{22} + b_{1} + b_{2}\\right)}}{{\\left(e^{\\left(s_{1} w_{11} + s_{1} w_{12} + b_{1}\\right)} + e^{\\left(s_{2} w_{21} + s_{2} w_{22} + b_{2}\\right)}\\right)}^{2}}\\)</html>"
      ],
      "text/latex": [
       "$\\displaystyle -\\frac{{\\left(q_{1} - \\log\\left(\\frac{e^{\\left(s_{1} w_{11} + s_{1} w_{12} + b_{1}\\right)}}{e^{\\left(s_{1} w_{11} + s_{1} w_{12} + b_{1}\\right)} + e^{\\left(s_{2} w_{21} + s_{2} w_{22} + b_{2}\\right)}}\\right)\\right)} s_{1} e^{\\left(s_{1} w_{11} + s_{1} w_{12} + b_{1}\\right)}}{e^{\\left(s_{1} w_{11} + s_{1} w_{12} + b_{1}\\right)} + e^{\\left(s_{2} w_{21} + s_{2} w_{22} + b_{2}\\right)}} + \\frac{{\\left(q_{1} - \\log\\left(\\frac{e^{\\left(s_{1} w_{11} + s_{1} w_{12} + b_{1}\\right)}}{e^{\\left(s_{1} w_{11} + s_{1} w_{12} + b_{1}\\right)} + e^{\\left(s_{2} w_{21} + s_{2} w_{22} + b_{2}\\right)}}\\right)\\right)} s_{1} e^{\\left(2 \\, s_{1} w_{11} + 2 \\, s_{1} w_{12} + 2 \\, b_{1}\\right)}}{{\\left(e^{\\left(s_{1} w_{11} + s_{1} w_{12} + b_{1}\\right)} + e^{\\left(s_{2} w_{21} + s_{2} w_{22} + b_{2}\\right)}\\right)}^{2}} + \\frac{{\\left(q_{2} - \\log\\left(\\frac{e^{\\left(s_{2} w_{21} + s_{2} w_{22} + b_{2}\\right)}}{e^{\\left(s_{1} w_{11} + s_{1} w_{12} + b_{1}\\right)} + e^{\\left(s_{2} w_{21} + s_{2} w_{22} + b_{2}\\right)}}\\right)\\right)} s_{1} e^{\\left(s_{1} w_{11} + s_{1} w_{12} + s_{2} w_{21} + s_{2} w_{22} + b_{1} + b_{2}\\right)}}{{\\left(e^{\\left(s_{1} w_{11} + s_{1} w_{12} + b_{1}\\right)} + e^{\\left(s_{2} w_{21} + s_{2} w_{22} + b_{2}\\right)}\\right)}^{2}} + \\frac{s_{1} e^{\\left(s_{1} w_{11} + s_{1} w_{12} + b_{1}\\right)}}{e^{\\left(s_{1} w_{11} + s_{1} w_{12} + b_{1}\\right)} + e^{\\left(s_{2} w_{21} + s_{2} w_{22} + b_{2}\\right)}} - \\frac{s_{1} e^{\\left(2 \\, s_{1} w_{11} + 2 \\, s_{1} w_{12} + 2 \\, b_{1}\\right)}}{{\\left(e^{\\left(s_{1} w_{11} + s_{1} w_{12} + b_{1}\\right)} + e^{\\left(s_{2} w_{21} + s_{2} w_{22} + b_{2}\\right)}\\right)}^{2}} - \\frac{s_{1} e^{\\left(s_{1} w_{11} + s_{1} w_{12} + s_{2} w_{21} + s_{2} w_{22} + b_{1} + b_{2}\\right)}}{{\\left(e^{\\left(s_{1} w_{11} + s_{1} w_{12} + b_{1}\\right)} + e^{\\left(s_{2} w_{21} + s_{2} w_{22} + b_{2}\\right)}\\right)}^{2}}$"
      ],
      "text/plain": [
       "-(q1 - log(e^(s1*w11 + s1*w12 + b1)/(e^(s1*w11 + s1*w12 + b1) + e^(s2*w21 + s2*w22 + b2))))*s1*e^(s1*w11 + s1*w12 + b1)/(e^(s1*w11 + s1*w12 + b1) + e^(s2*w21 + s2*w22 + b2)) + (q1 - log(e^(s1*w11 + s1*w12 + b1)/(e^(s1*w11 + s1*w12 + b1) + e^(s2*w21 + s2*w22 + b2))))*s1*e^(2*s1*w11 + 2*s1*w12 + 2*b1)/(e^(s1*w11 + s1*w12 + b1) + e^(s2*w21 + s2*w22 + b2))^2 + (q2 - log(e^(s2*w21 + s2*w22 + b2)/(e^(s1*w11 + s1*w12 + b1) + e^(s2*w21 + s2*w22 + b2))))*s1*e^(s1*w11 + s1*w12 + s2*w21 + s2*w22 + b1 + b2)/(e^(s1*w11 + s1*w12 + b1) + e^(s2*w21 + s2*w22 + b2))^2 + s1*e^(s1*w11 + s1*w12 + b1)/(e^(s1*w11 + s1*w12 + b1) + e^(s2*w21 + s2*w22 + b2)) - s1*e^(2*s1*w11 + 2*s1*w12 + 2*b1)/(e^(s1*w11 + s1*w12 + b1) + e^(s2*w21 + s2*w22 + b2))^2 - s1*e^(s1*w11 + s1*w12 + s2*w21 + s2*w22 + b1 + b2)/(e^(s1*w11 + s1*w12 + b1) + e^(s2*w21 + s2*w22 + b2))^2"
      ]
     },
     "metadata": {},
     "output_type": "display_data"
    }
   ],
   "source": [
    "show(dJ_dw11, viwer='pdf')"
   ]
  },
  {
   "cell_type": "code",
   "execution_count": 18,
   "id": "51cd15fd-4748-40e4-8d04-ffb7f6078c4b",
   "metadata": {},
   "outputs": [
    {
     "data": {
      "text/html": [
       "<html>\\(\\displaystyle -\\frac{{\\left(q_{1} - \\log\\left(\\frac{e^{\\left(s_{1} w_{11} + s_{1} w_{12} + b_{1}\\right)}}{e^{\\left(s_{1} w_{11} + s_{1} w_{12} + b_{1}\\right)} + e^{\\left(s_{2} w_{21} + s_{2} w_{22} + b_{2}\\right)}}\\right)\\right)} s_{1} e^{\\left(s_{1} w_{11} + s_{1} w_{12} + b_{1}\\right)}}{e^{\\left(s_{1} w_{11} + s_{1} w_{12} + b_{1}\\right)} + e^{\\left(s_{2} w_{21} + s_{2} w_{22} + b_{2}\\right)}} + \\frac{{\\left(q_{1} - \\log\\left(\\frac{e^{\\left(s_{1} w_{11} + s_{1} w_{12} + b_{1}\\right)}}{e^{\\left(s_{1} w_{11} + s_{1} w_{12} + b_{1}\\right)} + e^{\\left(s_{2} w_{21} + s_{2} w_{22} + b_{2}\\right)}}\\right)\\right)} s_{1} e^{\\left(2 \\, s_{1} w_{11} + 2 \\, s_{1} w_{12} + 2 \\, b_{1}\\right)}}{{\\left(e^{\\left(s_{1} w_{11} + s_{1} w_{12} + b_{1}\\right)} + e^{\\left(s_{2} w_{21} + s_{2} w_{22} + b_{2}\\right)}\\right)}^{2}} + \\frac{{\\left(q_{2} - \\log\\left(\\frac{e^{\\left(s_{2} w_{21} + s_{2} w_{22} + b_{2}\\right)}}{e^{\\left(s_{1} w_{11} + s_{1} w_{12} + b_{1}\\right)} + e^{\\left(s_{2} w_{21} + s_{2} w_{22} + b_{2}\\right)}}\\right)\\right)} s_{1} e^{\\left(s_{1} w_{11} + s_{1} w_{12} + s_{2} w_{21} + s_{2} w_{22} + b_{1} + b_{2}\\right)}}{{\\left(e^{\\left(s_{1} w_{11} + s_{1} w_{12} + b_{1}\\right)} + e^{\\left(s_{2} w_{21} + s_{2} w_{22} + b_{2}\\right)}\\right)}^{2}} + \\frac{s_{1} e^{\\left(s_{1} w_{11} + s_{1} w_{12} + b_{1}\\right)}}{e^{\\left(s_{1} w_{11} + s_{1} w_{12} + b_{1}\\right)} + e^{\\left(s_{2} w_{21} + s_{2} w_{22} + b_{2}\\right)}} - \\frac{s_{1} e^{\\left(2 \\, s_{1} w_{11} + 2 \\, s_{1} w_{12} + 2 \\, b_{1}\\right)}}{{\\left(e^{\\left(s_{1} w_{11} + s_{1} w_{12} + b_{1}\\right)} + e^{\\left(s_{2} w_{21} + s_{2} w_{22} + b_{2}\\right)}\\right)}^{2}} - \\frac{s_{1} e^{\\left(s_{1} w_{11} + s_{1} w_{12} + s_{2} w_{21} + s_{2} w_{22} + b_{1} + b_{2}\\right)}}{{\\left(e^{\\left(s_{1} w_{11} + s_{1} w_{12} + b_{1}\\right)} + e^{\\left(s_{2} w_{21} + s_{2} w_{22} + b_{2}\\right)}\\right)}^{2}}\\)</html>"
      ],
      "text/latex": [
       "$\\displaystyle -\\frac{{\\left(q_{1} - \\log\\left(\\frac{e^{\\left(s_{1} w_{11} + s_{1} w_{12} + b_{1}\\right)}}{e^{\\left(s_{1} w_{11} + s_{1} w_{12} + b_{1}\\right)} + e^{\\left(s_{2} w_{21} + s_{2} w_{22} + b_{2}\\right)}}\\right)\\right)} s_{1} e^{\\left(s_{1} w_{11} + s_{1} w_{12} + b_{1}\\right)}}{e^{\\left(s_{1} w_{11} + s_{1} w_{12} + b_{1}\\right)} + e^{\\left(s_{2} w_{21} + s_{2} w_{22} + b_{2}\\right)}} + \\frac{{\\left(q_{1} - \\log\\left(\\frac{e^{\\left(s_{1} w_{11} + s_{1} w_{12} + b_{1}\\right)}}{e^{\\left(s_{1} w_{11} + s_{1} w_{12} + b_{1}\\right)} + e^{\\left(s_{2} w_{21} + s_{2} w_{22} + b_{2}\\right)}}\\right)\\right)} s_{1} e^{\\left(2 \\, s_{1} w_{11} + 2 \\, s_{1} w_{12} + 2 \\, b_{1}\\right)}}{{\\left(e^{\\left(s_{1} w_{11} + s_{1} w_{12} + b_{1}\\right)} + e^{\\left(s_{2} w_{21} + s_{2} w_{22} + b_{2}\\right)}\\right)}^{2}} + \\frac{{\\left(q_{2} - \\log\\left(\\frac{e^{\\left(s_{2} w_{21} + s_{2} w_{22} + b_{2}\\right)}}{e^{\\left(s_{1} w_{11} + s_{1} w_{12} + b_{1}\\right)} + e^{\\left(s_{2} w_{21} + s_{2} w_{22} + b_{2}\\right)}}\\right)\\right)} s_{1} e^{\\left(s_{1} w_{11} + s_{1} w_{12} + s_{2} w_{21} + s_{2} w_{22} + b_{1} + b_{2}\\right)}}{{\\left(e^{\\left(s_{1} w_{11} + s_{1} w_{12} + b_{1}\\right)} + e^{\\left(s_{2} w_{21} + s_{2} w_{22} + b_{2}\\right)}\\right)}^{2}} + \\frac{s_{1} e^{\\left(s_{1} w_{11} + s_{1} w_{12} + b_{1}\\right)}}{e^{\\left(s_{1} w_{11} + s_{1} w_{12} + b_{1}\\right)} + e^{\\left(s_{2} w_{21} + s_{2} w_{22} + b_{2}\\right)}} - \\frac{s_{1} e^{\\left(2 \\, s_{1} w_{11} + 2 \\, s_{1} w_{12} + 2 \\, b_{1}\\right)}}{{\\left(e^{\\left(s_{1} w_{11} + s_{1} w_{12} + b_{1}\\right)} + e^{\\left(s_{2} w_{21} + s_{2} w_{22} + b_{2}\\right)}\\right)}^{2}} - \\frac{s_{1} e^{\\left(s_{1} w_{11} + s_{1} w_{12} + s_{2} w_{21} + s_{2} w_{22} + b_{1} + b_{2}\\right)}}{{\\left(e^{\\left(s_{1} w_{11} + s_{1} w_{12} + b_{1}\\right)} + e^{\\left(s_{2} w_{21} + s_{2} w_{22} + b_{2}\\right)}\\right)}^{2}}$"
      ],
      "text/plain": [
       "-(q1 - log(e^(s1*w11 + s1*w12 + b1)/(e^(s1*w11 + s1*w12 + b1) + e^(s2*w21 + s2*w22 + b2))))*s1*e^(s1*w11 + s1*w12 + b1)/(e^(s1*w11 + s1*w12 + b1) + e^(s2*w21 + s2*w22 + b2)) + (q1 - log(e^(s1*w11 + s1*w12 + b1)/(e^(s1*w11 + s1*w12 + b1) + e^(s2*w21 + s2*w22 + b2))))*s1*e^(2*s1*w11 + 2*s1*w12 + 2*b1)/(e^(s1*w11 + s1*w12 + b1) + e^(s2*w21 + s2*w22 + b2))^2 + (q2 - log(e^(s2*w21 + s2*w22 + b2)/(e^(s1*w11 + s1*w12 + b1) + e^(s2*w21 + s2*w22 + b2))))*s1*e^(s1*w11 + s1*w12 + s2*w21 + s2*w22 + b1 + b2)/(e^(s1*w11 + s1*w12 + b1) + e^(s2*w21 + s2*w22 + b2))^2 + s1*e^(s1*w11 + s1*w12 + b1)/(e^(s1*w11 + s1*w12 + b1) + e^(s2*w21 + s2*w22 + b2)) - s1*e^(2*s1*w11 + 2*s1*w12 + 2*b1)/(e^(s1*w11 + s1*w12 + b1) + e^(s2*w21 + s2*w22 + b2))^2 - s1*e^(s1*w11 + s1*w12 + s2*w21 + s2*w22 + b1 + b2)/(e^(s1*w11 + s1*w12 + b1) + e^(s2*w21 + s2*w22 + b2))^2"
      ]
     },
     "metadata": {},
     "output_type": "display_data"
    }
   ],
   "source": [
    "show(dJ_dw12, viwer='pdf')"
   ]
  },
  {
   "cell_type": "code",
   "execution_count": 19,
   "id": "68d915e9-e0ec-4f88-ae90-9fd3ca9c1836",
   "metadata": {},
   "outputs": [
    {
     "data": {
      "text/html": [
       "<html>\\(\\displaystyle -\\frac{{\\left(q_{2} - \\log\\left(\\frac{e^{\\left(s_{2} w_{21} + s_{2} w_{22} + b_{2}\\right)}}{e^{\\left(s_{1} w_{11} + s_{1} w_{12} + b_{1}\\right)} + e^{\\left(s_{2} w_{21} + s_{2} w_{22} + b_{2}\\right)}}\\right)\\right)} s_{2} e^{\\left(s_{2} w_{21} + s_{2} w_{22} + b_{2}\\right)}}{e^{\\left(s_{1} w_{11} + s_{1} w_{12} + b_{1}\\right)} + e^{\\left(s_{2} w_{21} + s_{2} w_{22} + b_{2}\\right)}} + \\frac{{\\left(q_{1} - \\log\\left(\\frac{e^{\\left(s_{1} w_{11} + s_{1} w_{12} + b_{1}\\right)}}{e^{\\left(s_{1} w_{11} + s_{1} w_{12} + b_{1}\\right)} + e^{\\left(s_{2} w_{21} + s_{2} w_{22} + b_{2}\\right)}}\\right)\\right)} s_{2} e^{\\left(s_{1} w_{11} + s_{1} w_{12} + s_{2} w_{21} + s_{2} w_{22} + b_{1} + b_{2}\\right)}}{{\\left(e^{\\left(s_{1} w_{11} + s_{1} w_{12} + b_{1}\\right)} + e^{\\left(s_{2} w_{21} + s_{2} w_{22} + b_{2}\\right)}\\right)}^{2}} + \\frac{{\\left(q_{2} - \\log\\left(\\frac{e^{\\left(s_{2} w_{21} + s_{2} w_{22} + b_{2}\\right)}}{e^{\\left(s_{1} w_{11} + s_{1} w_{12} + b_{1}\\right)} + e^{\\left(s_{2} w_{21} + s_{2} w_{22} + b_{2}\\right)}}\\right)\\right)} s_{2} e^{\\left(2 \\, s_{2} w_{21} + 2 \\, s_{2} w_{22} + 2 \\, b_{2}\\right)}}{{\\left(e^{\\left(s_{1} w_{11} + s_{1} w_{12} + b_{1}\\right)} + e^{\\left(s_{2} w_{21} + s_{2} w_{22} + b_{2}\\right)}\\right)}^{2}} + \\frac{s_{2} e^{\\left(s_{2} w_{21} + s_{2} w_{22} + b_{2}\\right)}}{e^{\\left(s_{1} w_{11} + s_{1} w_{12} + b_{1}\\right)} + e^{\\left(s_{2} w_{21} + s_{2} w_{22} + b_{2}\\right)}} - \\frac{s_{2} e^{\\left(s_{1} w_{11} + s_{1} w_{12} + s_{2} w_{21} + s_{2} w_{22} + b_{1} + b_{2}\\right)}}{{\\left(e^{\\left(s_{1} w_{11} + s_{1} w_{12} + b_{1}\\right)} + e^{\\left(s_{2} w_{21} + s_{2} w_{22} + b_{2}\\right)}\\right)}^{2}} - \\frac{s_{2} e^{\\left(2 \\, s_{2} w_{21} + 2 \\, s_{2} w_{22} + 2 \\, b_{2}\\right)}}{{\\left(e^{\\left(s_{1} w_{11} + s_{1} w_{12} + b_{1}\\right)} + e^{\\left(s_{2} w_{21} + s_{2} w_{22} + b_{2}\\right)}\\right)}^{2}}\\)</html>"
      ],
      "text/latex": [
       "$\\displaystyle -\\frac{{\\left(q_{2} - \\log\\left(\\frac{e^{\\left(s_{2} w_{21} + s_{2} w_{22} + b_{2}\\right)}}{e^{\\left(s_{1} w_{11} + s_{1} w_{12} + b_{1}\\right)} + e^{\\left(s_{2} w_{21} + s_{2} w_{22} + b_{2}\\right)}}\\right)\\right)} s_{2} e^{\\left(s_{2} w_{21} + s_{2} w_{22} + b_{2}\\right)}}{e^{\\left(s_{1} w_{11} + s_{1} w_{12} + b_{1}\\right)} + e^{\\left(s_{2} w_{21} + s_{2} w_{22} + b_{2}\\right)}} + \\frac{{\\left(q_{1} - \\log\\left(\\frac{e^{\\left(s_{1} w_{11} + s_{1} w_{12} + b_{1}\\right)}}{e^{\\left(s_{1} w_{11} + s_{1} w_{12} + b_{1}\\right)} + e^{\\left(s_{2} w_{21} + s_{2} w_{22} + b_{2}\\right)}}\\right)\\right)} s_{2} e^{\\left(s_{1} w_{11} + s_{1} w_{12} + s_{2} w_{21} + s_{2} w_{22} + b_{1} + b_{2}\\right)}}{{\\left(e^{\\left(s_{1} w_{11} + s_{1} w_{12} + b_{1}\\right)} + e^{\\left(s_{2} w_{21} + s_{2} w_{22} + b_{2}\\right)}\\right)}^{2}} + \\frac{{\\left(q_{2} - \\log\\left(\\frac{e^{\\left(s_{2} w_{21} + s_{2} w_{22} + b_{2}\\right)}}{e^{\\left(s_{1} w_{11} + s_{1} w_{12} + b_{1}\\right)} + e^{\\left(s_{2} w_{21} + s_{2} w_{22} + b_{2}\\right)}}\\right)\\right)} s_{2} e^{\\left(2 \\, s_{2} w_{21} + 2 \\, s_{2} w_{22} + 2 \\, b_{2}\\right)}}{{\\left(e^{\\left(s_{1} w_{11} + s_{1} w_{12} + b_{1}\\right)} + e^{\\left(s_{2} w_{21} + s_{2} w_{22} + b_{2}\\right)}\\right)}^{2}} + \\frac{s_{2} e^{\\left(s_{2} w_{21} + s_{2} w_{22} + b_{2}\\right)}}{e^{\\left(s_{1} w_{11} + s_{1} w_{12} + b_{1}\\right)} + e^{\\left(s_{2} w_{21} + s_{2} w_{22} + b_{2}\\right)}} - \\frac{s_{2} e^{\\left(s_{1} w_{11} + s_{1} w_{12} + s_{2} w_{21} + s_{2} w_{22} + b_{1} + b_{2}\\right)}}{{\\left(e^{\\left(s_{1} w_{11} + s_{1} w_{12} + b_{1}\\right)} + e^{\\left(s_{2} w_{21} + s_{2} w_{22} + b_{2}\\right)}\\right)}^{2}} - \\frac{s_{2} e^{\\left(2 \\, s_{2} w_{21} + 2 \\, s_{2} w_{22} + 2 \\, b_{2}\\right)}}{{\\left(e^{\\left(s_{1} w_{11} + s_{1} w_{12} + b_{1}\\right)} + e^{\\left(s_{2} w_{21} + s_{2} w_{22} + b_{2}\\right)}\\right)}^{2}}$"
      ],
      "text/plain": [
       "-(q2 - log(e^(s2*w21 + s2*w22 + b2)/(e^(s1*w11 + s1*w12 + b1) + e^(s2*w21 + s2*w22 + b2))))*s2*e^(s2*w21 + s2*w22 + b2)/(e^(s1*w11 + s1*w12 + b1) + e^(s2*w21 + s2*w22 + b2)) + (q1 - log(e^(s1*w11 + s1*w12 + b1)/(e^(s1*w11 + s1*w12 + b1) + e^(s2*w21 + s2*w22 + b2))))*s2*e^(s1*w11 + s1*w12 + s2*w21 + s2*w22 + b1 + b2)/(e^(s1*w11 + s1*w12 + b1) + e^(s2*w21 + s2*w22 + b2))^2 + (q2 - log(e^(s2*w21 + s2*w22 + b2)/(e^(s1*w11 + s1*w12 + b1) + e^(s2*w21 + s2*w22 + b2))))*s2*e^(2*s2*w21 + 2*s2*w22 + 2*b2)/(e^(s1*w11 + s1*w12 + b1) + e^(s2*w21 + s2*w22 + b2))^2 + s2*e^(s2*w21 + s2*w22 + b2)/(e^(s1*w11 + s1*w12 + b1) + e^(s2*w21 + s2*w22 + b2)) - s2*e^(s1*w11 + s1*w12 + s2*w21 + s2*w22 + b1 + b2)/(e^(s1*w11 + s1*w12 + b1) + e^(s2*w21 + s2*w22 + b2))^2 - s2*e^(2*s2*w21 + 2*s2*w22 + 2*b2)/(e^(s1*w11 + s1*w12 + b1) + e^(s2*w21 + s2*w22 + b2))^2"
      ]
     },
     "metadata": {},
     "output_type": "display_data"
    }
   ],
   "source": [
    "show(dJ_dw21, viwer='pdf')"
   ]
  },
  {
   "cell_type": "code",
   "execution_count": 20,
   "id": "daaa8460-435e-4abc-ad0f-e2591c037e72",
   "metadata": {},
   "outputs": [
    {
     "data": {
      "text/html": [
       "<html>\\(\\displaystyle -\\frac{{\\left(q_{2} - \\log\\left(\\frac{e^{\\left(s_{2} w_{21} + s_{2} w_{22} + b_{2}\\right)}}{e^{\\left(s_{1} w_{11} + s_{1} w_{12} + b_{1}\\right)} + e^{\\left(s_{2} w_{21} + s_{2} w_{22} + b_{2}\\right)}}\\right)\\right)} s_{2} e^{\\left(s_{2} w_{21} + s_{2} w_{22} + b_{2}\\right)}}{e^{\\left(s_{1} w_{11} + s_{1} w_{12} + b_{1}\\right)} + e^{\\left(s_{2} w_{21} + s_{2} w_{22} + b_{2}\\right)}} + \\frac{{\\left(q_{1} - \\log\\left(\\frac{e^{\\left(s_{1} w_{11} + s_{1} w_{12} + b_{1}\\right)}}{e^{\\left(s_{1} w_{11} + s_{1} w_{12} + b_{1}\\right)} + e^{\\left(s_{2} w_{21} + s_{2} w_{22} + b_{2}\\right)}}\\right)\\right)} s_{2} e^{\\left(s_{1} w_{11} + s_{1} w_{12} + s_{2} w_{21} + s_{2} w_{22} + b_{1} + b_{2}\\right)}}{{\\left(e^{\\left(s_{1} w_{11} + s_{1} w_{12} + b_{1}\\right)} + e^{\\left(s_{2} w_{21} + s_{2} w_{22} + b_{2}\\right)}\\right)}^{2}} + \\frac{{\\left(q_{2} - \\log\\left(\\frac{e^{\\left(s_{2} w_{21} + s_{2} w_{22} + b_{2}\\right)}}{e^{\\left(s_{1} w_{11} + s_{1} w_{12} + b_{1}\\right)} + e^{\\left(s_{2} w_{21} + s_{2} w_{22} + b_{2}\\right)}}\\right)\\right)} s_{2} e^{\\left(2 \\, s_{2} w_{21} + 2 \\, s_{2} w_{22} + 2 \\, b_{2}\\right)}}{{\\left(e^{\\left(s_{1} w_{11} + s_{1} w_{12} + b_{1}\\right)} + e^{\\left(s_{2} w_{21} + s_{2} w_{22} + b_{2}\\right)}\\right)}^{2}} + \\frac{s_{2} e^{\\left(s_{2} w_{21} + s_{2} w_{22} + b_{2}\\right)}}{e^{\\left(s_{1} w_{11} + s_{1} w_{12} + b_{1}\\right)} + e^{\\left(s_{2} w_{21} + s_{2} w_{22} + b_{2}\\right)}} - \\frac{s_{2} e^{\\left(s_{1} w_{11} + s_{1} w_{12} + s_{2} w_{21} + s_{2} w_{22} + b_{1} + b_{2}\\right)}}{{\\left(e^{\\left(s_{1} w_{11} + s_{1} w_{12} + b_{1}\\right)} + e^{\\left(s_{2} w_{21} + s_{2} w_{22} + b_{2}\\right)}\\right)}^{2}} - \\frac{s_{2} e^{\\left(2 \\, s_{2} w_{21} + 2 \\, s_{2} w_{22} + 2 \\, b_{2}\\right)}}{{\\left(e^{\\left(s_{1} w_{11} + s_{1} w_{12} + b_{1}\\right)} + e^{\\left(s_{2} w_{21} + s_{2} w_{22} + b_{2}\\right)}\\right)}^{2}}\\)</html>"
      ],
      "text/latex": [
       "$\\displaystyle -\\frac{{\\left(q_{2} - \\log\\left(\\frac{e^{\\left(s_{2} w_{21} + s_{2} w_{22} + b_{2}\\right)}}{e^{\\left(s_{1} w_{11} + s_{1} w_{12} + b_{1}\\right)} + e^{\\left(s_{2} w_{21} + s_{2} w_{22} + b_{2}\\right)}}\\right)\\right)} s_{2} e^{\\left(s_{2} w_{21} + s_{2} w_{22} + b_{2}\\right)}}{e^{\\left(s_{1} w_{11} + s_{1} w_{12} + b_{1}\\right)} + e^{\\left(s_{2} w_{21} + s_{2} w_{22} + b_{2}\\right)}} + \\frac{{\\left(q_{1} - \\log\\left(\\frac{e^{\\left(s_{1} w_{11} + s_{1} w_{12} + b_{1}\\right)}}{e^{\\left(s_{1} w_{11} + s_{1} w_{12} + b_{1}\\right)} + e^{\\left(s_{2} w_{21} + s_{2} w_{22} + b_{2}\\right)}}\\right)\\right)} s_{2} e^{\\left(s_{1} w_{11} + s_{1} w_{12} + s_{2} w_{21} + s_{2} w_{22} + b_{1} + b_{2}\\right)}}{{\\left(e^{\\left(s_{1} w_{11} + s_{1} w_{12} + b_{1}\\right)} + e^{\\left(s_{2} w_{21} + s_{2} w_{22} + b_{2}\\right)}\\right)}^{2}} + \\frac{{\\left(q_{2} - \\log\\left(\\frac{e^{\\left(s_{2} w_{21} + s_{2} w_{22} + b_{2}\\right)}}{e^{\\left(s_{1} w_{11} + s_{1} w_{12} + b_{1}\\right)} + e^{\\left(s_{2} w_{21} + s_{2} w_{22} + b_{2}\\right)}}\\right)\\right)} s_{2} e^{\\left(2 \\, s_{2} w_{21} + 2 \\, s_{2} w_{22} + 2 \\, b_{2}\\right)}}{{\\left(e^{\\left(s_{1} w_{11} + s_{1} w_{12} + b_{1}\\right)} + e^{\\left(s_{2} w_{21} + s_{2} w_{22} + b_{2}\\right)}\\right)}^{2}} + \\frac{s_{2} e^{\\left(s_{2} w_{21} + s_{2} w_{22} + b_{2}\\right)}}{e^{\\left(s_{1} w_{11} + s_{1} w_{12} + b_{1}\\right)} + e^{\\left(s_{2} w_{21} + s_{2} w_{22} + b_{2}\\right)}} - \\frac{s_{2} e^{\\left(s_{1} w_{11} + s_{1} w_{12} + s_{2} w_{21} + s_{2} w_{22} + b_{1} + b_{2}\\right)}}{{\\left(e^{\\left(s_{1} w_{11} + s_{1} w_{12} + b_{1}\\right)} + e^{\\left(s_{2} w_{21} + s_{2} w_{22} + b_{2}\\right)}\\right)}^{2}} - \\frac{s_{2} e^{\\left(2 \\, s_{2} w_{21} + 2 \\, s_{2} w_{22} + 2 \\, b_{2}\\right)}}{{\\left(e^{\\left(s_{1} w_{11} + s_{1} w_{12} + b_{1}\\right)} + e^{\\left(s_{2} w_{21} + s_{2} w_{22} + b_{2}\\right)}\\right)}^{2}}$"
      ],
      "text/plain": [
       "-(q2 - log(e^(s2*w21 + s2*w22 + b2)/(e^(s1*w11 + s1*w12 + b1) + e^(s2*w21 + s2*w22 + b2))))*s2*e^(s2*w21 + s2*w22 + b2)/(e^(s1*w11 + s1*w12 + b1) + e^(s2*w21 + s2*w22 + b2)) + (q1 - log(e^(s1*w11 + s1*w12 + b1)/(e^(s1*w11 + s1*w12 + b1) + e^(s2*w21 + s2*w22 + b2))))*s2*e^(s1*w11 + s1*w12 + s2*w21 + s2*w22 + b1 + b2)/(e^(s1*w11 + s1*w12 + b1) + e^(s2*w21 + s2*w22 + b2))^2 + (q2 - log(e^(s2*w21 + s2*w22 + b2)/(e^(s1*w11 + s1*w12 + b1) + e^(s2*w21 + s2*w22 + b2))))*s2*e^(2*s2*w21 + 2*s2*w22 + 2*b2)/(e^(s1*w11 + s1*w12 + b1) + e^(s2*w21 + s2*w22 + b2))^2 + s2*e^(s2*w21 + s2*w22 + b2)/(e^(s1*w11 + s1*w12 + b1) + e^(s2*w21 + s2*w22 + b2)) - s2*e^(s1*w11 + s1*w12 + s2*w21 + s2*w22 + b1 + b2)/(e^(s1*w11 + s1*w12 + b1) + e^(s2*w21 + s2*w22 + b2))^2 - s2*e^(2*s2*w21 + 2*s2*w22 + 2*b2)/(e^(s1*w11 + s1*w12 + b1) + e^(s2*w21 + s2*w22 + b2))^2"
      ]
     },
     "metadata": {},
     "output_type": "display_data"
    }
   ],
   "source": [
    "show(dJ_dw22, viwer='pdf')"
   ]
  },
  {
   "cell_type": "markdown",
   "id": "87408177-e76e-4e5c-8be3-608593779404",
   "metadata": {},
   "source": [
    "# $\\nabla_{\\psi_{b}}J_{\\pi}(\\psi)$"
   ]
  },
  {
   "cell_type": "code",
   "execution_count": 21,
   "id": "ae0c93c8-5ceb-4dd7-b668-105cf927e39e",
   "metadata": {},
   "outputs": [],
   "source": [
    "dJ_db1 = J_π.diff(b1)\n",
    "dJ_db2 = J_π.diff(b2)"
   ]
  },
  {
   "cell_type": "code",
   "execution_count": 22,
   "id": "0db68634-08e1-4ca0-8a42-5547a69a0499",
   "metadata": {},
   "outputs": [
    {
     "data": {
      "text/html": [
       "<html>\\(\\displaystyle -\\frac{{\\left(q_{1} - \\log\\left(\\frac{e^{\\left(s_{1} w_{11} + s_{1} w_{12} + b_{1}\\right)}}{e^{\\left(s_{1} w_{11} + s_{1} w_{12} + b_{1}\\right)} + e^{\\left(s_{2} w_{21} + s_{2} w_{22} + b_{2}\\right)}}\\right)\\right)} e^{\\left(s_{1} w_{11} + s_{1} w_{12} + b_{1}\\right)}}{e^{\\left(s_{1} w_{11} + s_{1} w_{12} + b_{1}\\right)} + e^{\\left(s_{2} w_{21} + s_{2} w_{22} + b_{2}\\right)}} + \\frac{{\\left(q_{1} - \\log\\left(\\frac{e^{\\left(s_{1} w_{11} + s_{1} w_{12} + b_{1}\\right)}}{e^{\\left(s_{1} w_{11} + s_{1} w_{12} + b_{1}\\right)} + e^{\\left(s_{2} w_{21} + s_{2} w_{22} + b_{2}\\right)}}\\right)\\right)} e^{\\left(2 \\, s_{1} w_{11} + 2 \\, s_{1} w_{12} + 2 \\, b_{1}\\right)}}{{\\left(e^{\\left(s_{1} w_{11} + s_{1} w_{12} + b_{1}\\right)} + e^{\\left(s_{2} w_{21} + s_{2} w_{22} + b_{2}\\right)}\\right)}^{2}} + \\frac{{\\left(q_{2} - \\log\\left(\\frac{e^{\\left(s_{2} w_{21} + s_{2} w_{22} + b_{2}\\right)}}{e^{\\left(s_{1} w_{11} + s_{1} w_{12} + b_{1}\\right)} + e^{\\left(s_{2} w_{21} + s_{2} w_{22} + b_{2}\\right)}}\\right)\\right)} e^{\\left(s_{1} w_{11} + s_{1} w_{12} + s_{2} w_{21} + s_{2} w_{22} + b_{1} + b_{2}\\right)}}{{\\left(e^{\\left(s_{1} w_{11} + s_{1} w_{12} + b_{1}\\right)} + e^{\\left(s_{2} w_{21} + s_{2} w_{22} + b_{2}\\right)}\\right)}^{2}} + \\frac{e^{\\left(s_{1} w_{11} + s_{1} w_{12} + b_{1}\\right)}}{e^{\\left(s_{1} w_{11} + s_{1} w_{12} + b_{1}\\right)} + e^{\\left(s_{2} w_{21} + s_{2} w_{22} + b_{2}\\right)}} - \\frac{e^{\\left(2 \\, s_{1} w_{11} + 2 \\, s_{1} w_{12} + 2 \\, b_{1}\\right)}}{{\\left(e^{\\left(s_{1} w_{11} + s_{1} w_{12} + b_{1}\\right)} + e^{\\left(s_{2} w_{21} + s_{2} w_{22} + b_{2}\\right)}\\right)}^{2}} - \\frac{e^{\\left(s_{1} w_{11} + s_{1} w_{12} + s_{2} w_{21} + s_{2} w_{22} + b_{1} + b_{2}\\right)}}{{\\left(e^{\\left(s_{1} w_{11} + s_{1} w_{12} + b_{1}\\right)} + e^{\\left(s_{2} w_{21} + s_{2} w_{22} + b_{2}\\right)}\\right)}^{2}}\\)</html>"
      ],
      "text/latex": [
       "$\\displaystyle -\\frac{{\\left(q_{1} - \\log\\left(\\frac{e^{\\left(s_{1} w_{11} + s_{1} w_{12} + b_{1}\\right)}}{e^{\\left(s_{1} w_{11} + s_{1} w_{12} + b_{1}\\right)} + e^{\\left(s_{2} w_{21} + s_{2} w_{22} + b_{2}\\right)}}\\right)\\right)} e^{\\left(s_{1} w_{11} + s_{1} w_{12} + b_{1}\\right)}}{e^{\\left(s_{1} w_{11} + s_{1} w_{12} + b_{1}\\right)} + e^{\\left(s_{2} w_{21} + s_{2} w_{22} + b_{2}\\right)}} + \\frac{{\\left(q_{1} - \\log\\left(\\frac{e^{\\left(s_{1} w_{11} + s_{1} w_{12} + b_{1}\\right)}}{e^{\\left(s_{1} w_{11} + s_{1} w_{12} + b_{1}\\right)} + e^{\\left(s_{2} w_{21} + s_{2} w_{22} + b_{2}\\right)}}\\right)\\right)} e^{\\left(2 \\, s_{1} w_{11} + 2 \\, s_{1} w_{12} + 2 \\, b_{1}\\right)}}{{\\left(e^{\\left(s_{1} w_{11} + s_{1} w_{12} + b_{1}\\right)} + e^{\\left(s_{2} w_{21} + s_{2} w_{22} + b_{2}\\right)}\\right)}^{2}} + \\frac{{\\left(q_{2} - \\log\\left(\\frac{e^{\\left(s_{2} w_{21} + s_{2} w_{22} + b_{2}\\right)}}{e^{\\left(s_{1} w_{11} + s_{1} w_{12} + b_{1}\\right)} + e^{\\left(s_{2} w_{21} + s_{2} w_{22} + b_{2}\\right)}}\\right)\\right)} e^{\\left(s_{1} w_{11} + s_{1} w_{12} + s_{2} w_{21} + s_{2} w_{22} + b_{1} + b_{2}\\right)}}{{\\left(e^{\\left(s_{1} w_{11} + s_{1} w_{12} + b_{1}\\right)} + e^{\\left(s_{2} w_{21} + s_{2} w_{22} + b_{2}\\right)}\\right)}^{2}} + \\frac{e^{\\left(s_{1} w_{11} + s_{1} w_{12} + b_{1}\\right)}}{e^{\\left(s_{1} w_{11} + s_{1} w_{12} + b_{1}\\right)} + e^{\\left(s_{2} w_{21} + s_{2} w_{22} + b_{2}\\right)}} - \\frac{e^{\\left(2 \\, s_{1} w_{11} + 2 \\, s_{1} w_{12} + 2 \\, b_{1}\\right)}}{{\\left(e^{\\left(s_{1} w_{11} + s_{1} w_{12} + b_{1}\\right)} + e^{\\left(s_{2} w_{21} + s_{2} w_{22} + b_{2}\\right)}\\right)}^{2}} - \\frac{e^{\\left(s_{1} w_{11} + s_{1} w_{12} + s_{2} w_{21} + s_{2} w_{22} + b_{1} + b_{2}\\right)}}{{\\left(e^{\\left(s_{1} w_{11} + s_{1} w_{12} + b_{1}\\right)} + e^{\\left(s_{2} w_{21} + s_{2} w_{22} + b_{2}\\right)}\\right)}^{2}}$"
      ],
      "text/plain": [
       "-(q1 - log(e^(s1*w11 + s1*w12 + b1)/(e^(s1*w11 + s1*w12 + b1) + e^(s2*w21 + s2*w22 + b2))))*e^(s1*w11 + s1*w12 + b1)/(e^(s1*w11 + s1*w12 + b1) + e^(s2*w21 + s2*w22 + b2)) + (q1 - log(e^(s1*w11 + s1*w12 + b1)/(e^(s1*w11 + s1*w12 + b1) + e^(s2*w21 + s2*w22 + b2))))*e^(2*s1*w11 + 2*s1*w12 + 2*b1)/(e^(s1*w11 + s1*w12 + b1) + e^(s2*w21 + s2*w22 + b2))^2 + (q2 - log(e^(s2*w21 + s2*w22 + b2)/(e^(s1*w11 + s1*w12 + b1) + e^(s2*w21 + s2*w22 + b2))))*e^(s1*w11 + s1*w12 + s2*w21 + s2*w22 + b1 + b2)/(e^(s1*w11 + s1*w12 + b1) + e^(s2*w21 + s2*w22 + b2))^2 + e^(s1*w11 + s1*w12 + b1)/(e^(s1*w11 + s1*w12 + b1) + e^(s2*w21 + s2*w22 + b2)) - e^(2*s1*w11 + 2*s1*w12 + 2*b1)/(e^(s1*w11 + s1*w12 + b1) + e^(s2*w21 + s2*w22 + b2))^2 - e^(s1*w11 + s1*w12 + s2*w21 + s2*w22 + b1 + b2)/(e^(s1*w11 + s1*w12 + b1) + e^(s2*w21 + s2*w22 + b2))^2"
      ]
     },
     "metadata": {},
     "output_type": "display_data"
    }
   ],
   "source": [
    "show(dJ_db1, viwer='pdf')"
   ]
  },
  {
   "cell_type": "code",
   "execution_count": 23,
   "id": "11931a23-d9bf-47f8-85a6-9a428cd91fb7",
   "metadata": {},
   "outputs": [
    {
     "data": {
      "text/html": [
       "<html>\\(\\displaystyle -\\frac{{\\left(q_{2} - \\log\\left(\\frac{e^{\\left(s_{2} w_{21} + s_{2} w_{22} + b_{2}\\right)}}{e^{\\left(s_{1} w_{11} + s_{1} w_{12} + b_{1}\\right)} + e^{\\left(s_{2} w_{21} + s_{2} w_{22} + b_{2}\\right)}}\\right)\\right)} e^{\\left(s_{2} w_{21} + s_{2} w_{22} + b_{2}\\right)}}{e^{\\left(s_{1} w_{11} + s_{1} w_{12} + b_{1}\\right)} + e^{\\left(s_{2} w_{21} + s_{2} w_{22} + b_{2}\\right)}} + \\frac{{\\left(q_{1} - \\log\\left(\\frac{e^{\\left(s_{1} w_{11} + s_{1} w_{12} + b_{1}\\right)}}{e^{\\left(s_{1} w_{11} + s_{1} w_{12} + b_{1}\\right)} + e^{\\left(s_{2} w_{21} + s_{2} w_{22} + b_{2}\\right)}}\\right)\\right)} e^{\\left(s_{1} w_{11} + s_{1} w_{12} + s_{2} w_{21} + s_{2} w_{22} + b_{1} + b_{2}\\right)}}{{\\left(e^{\\left(s_{1} w_{11} + s_{1} w_{12} + b_{1}\\right)} + e^{\\left(s_{2} w_{21} + s_{2} w_{22} + b_{2}\\right)}\\right)}^{2}} + \\frac{{\\left(q_{2} - \\log\\left(\\frac{e^{\\left(s_{2} w_{21} + s_{2} w_{22} + b_{2}\\right)}}{e^{\\left(s_{1} w_{11} + s_{1} w_{12} + b_{1}\\right)} + e^{\\left(s_{2} w_{21} + s_{2} w_{22} + b_{2}\\right)}}\\right)\\right)} e^{\\left(2 \\, s_{2} w_{21} + 2 \\, s_{2} w_{22} + 2 \\, b_{2}\\right)}}{{\\left(e^{\\left(s_{1} w_{11} + s_{1} w_{12} + b_{1}\\right)} + e^{\\left(s_{2} w_{21} + s_{2} w_{22} + b_{2}\\right)}\\right)}^{2}} + \\frac{e^{\\left(s_{2} w_{21} + s_{2} w_{22} + b_{2}\\right)}}{e^{\\left(s_{1} w_{11} + s_{1} w_{12} + b_{1}\\right)} + e^{\\left(s_{2} w_{21} + s_{2} w_{22} + b_{2}\\right)}} - \\frac{e^{\\left(s_{1} w_{11} + s_{1} w_{12} + s_{2} w_{21} + s_{2} w_{22} + b_{1} + b_{2}\\right)}}{{\\left(e^{\\left(s_{1} w_{11} + s_{1} w_{12} + b_{1}\\right)} + e^{\\left(s_{2} w_{21} + s_{2} w_{22} + b_{2}\\right)}\\right)}^{2}} - \\frac{e^{\\left(2 \\, s_{2} w_{21} + 2 \\, s_{2} w_{22} + 2 \\, b_{2}\\right)}}{{\\left(e^{\\left(s_{1} w_{11} + s_{1} w_{12} + b_{1}\\right)} + e^{\\left(s_{2} w_{21} + s_{2} w_{22} + b_{2}\\right)}\\right)}^{2}}\\)</html>"
      ],
      "text/latex": [
       "$\\displaystyle -\\frac{{\\left(q_{2} - \\log\\left(\\frac{e^{\\left(s_{2} w_{21} + s_{2} w_{22} + b_{2}\\right)}}{e^{\\left(s_{1} w_{11} + s_{1} w_{12} + b_{1}\\right)} + e^{\\left(s_{2} w_{21} + s_{2} w_{22} + b_{2}\\right)}}\\right)\\right)} e^{\\left(s_{2} w_{21} + s_{2} w_{22} + b_{2}\\right)}}{e^{\\left(s_{1} w_{11} + s_{1} w_{12} + b_{1}\\right)} + e^{\\left(s_{2} w_{21} + s_{2} w_{22} + b_{2}\\right)}} + \\frac{{\\left(q_{1} - \\log\\left(\\frac{e^{\\left(s_{1} w_{11} + s_{1} w_{12} + b_{1}\\right)}}{e^{\\left(s_{1} w_{11} + s_{1} w_{12} + b_{1}\\right)} + e^{\\left(s_{2} w_{21} + s_{2} w_{22} + b_{2}\\right)}}\\right)\\right)} e^{\\left(s_{1} w_{11} + s_{1} w_{12} + s_{2} w_{21} + s_{2} w_{22} + b_{1} + b_{2}\\right)}}{{\\left(e^{\\left(s_{1} w_{11} + s_{1} w_{12} + b_{1}\\right)} + e^{\\left(s_{2} w_{21} + s_{2} w_{22} + b_{2}\\right)}\\right)}^{2}} + \\frac{{\\left(q_{2} - \\log\\left(\\frac{e^{\\left(s_{2} w_{21} + s_{2} w_{22} + b_{2}\\right)}}{e^{\\left(s_{1} w_{11} + s_{1} w_{12} + b_{1}\\right)} + e^{\\left(s_{2} w_{21} + s_{2} w_{22} + b_{2}\\right)}}\\right)\\right)} e^{\\left(2 \\, s_{2} w_{21} + 2 \\, s_{2} w_{22} + 2 \\, b_{2}\\right)}}{{\\left(e^{\\left(s_{1} w_{11} + s_{1} w_{12} + b_{1}\\right)} + e^{\\left(s_{2} w_{21} + s_{2} w_{22} + b_{2}\\right)}\\right)}^{2}} + \\frac{e^{\\left(s_{2} w_{21} + s_{2} w_{22} + b_{2}\\right)}}{e^{\\left(s_{1} w_{11} + s_{1} w_{12} + b_{1}\\right)} + e^{\\left(s_{2} w_{21} + s_{2} w_{22} + b_{2}\\right)}} - \\frac{e^{\\left(s_{1} w_{11} + s_{1} w_{12} + s_{2} w_{21} + s_{2} w_{22} + b_{1} + b_{2}\\right)}}{{\\left(e^{\\left(s_{1} w_{11} + s_{1} w_{12} + b_{1}\\right)} + e^{\\left(s_{2} w_{21} + s_{2} w_{22} + b_{2}\\right)}\\right)}^{2}} - \\frac{e^{\\left(2 \\, s_{2} w_{21} + 2 \\, s_{2} w_{22} + 2 \\, b_{2}\\right)}}{{\\left(e^{\\left(s_{1} w_{11} + s_{1} w_{12} + b_{1}\\right)} + e^{\\left(s_{2} w_{21} + s_{2} w_{22} + b_{2}\\right)}\\right)}^{2}}$"
      ],
      "text/plain": [
       "-(q2 - log(e^(s2*w21 + s2*w22 + b2)/(e^(s1*w11 + s1*w12 + b1) + e^(s2*w21 + s2*w22 + b2))))*e^(s2*w21 + s2*w22 + b2)/(e^(s1*w11 + s1*w12 + b1) + e^(s2*w21 + s2*w22 + b2)) + (q1 - log(e^(s1*w11 + s1*w12 + b1)/(e^(s1*w11 + s1*w12 + b1) + e^(s2*w21 + s2*w22 + b2))))*e^(s1*w11 + s1*w12 + s2*w21 + s2*w22 + b1 + b2)/(e^(s1*w11 + s1*w12 + b1) + e^(s2*w21 + s2*w22 + b2))^2 + (q2 - log(e^(s2*w21 + s2*w22 + b2)/(e^(s1*w11 + s1*w12 + b1) + e^(s2*w21 + s2*w22 + b2))))*e^(2*s2*w21 + 2*s2*w22 + 2*b2)/(e^(s1*w11 + s1*w12 + b1) + e^(s2*w21 + s2*w22 + b2))^2 + e^(s2*w21 + s2*w22 + b2)/(e^(s1*w11 + s1*w12 + b1) + e^(s2*w21 + s2*w22 + b2)) - e^(s1*w11 + s1*w12 + s2*w21 + s2*w22 + b1 + b2)/(e^(s1*w11 + s1*w12 + b1) + e^(s2*w21 + s2*w22 + b2))^2 - e^(2*s2*w21 + 2*s2*w22 + 2*b2)/(e^(s1*w11 + s1*w12 + b1) + e^(s2*w21 + s2*w22 + b2))^2"
      ]
     },
     "metadata": {},
     "output_type": "display_data"
    }
   ],
   "source": [
    "show(dJ_db2, viwer='pdf')"
   ]
  },
  {
   "cell_type": "markdown",
   "id": "c00e005a-c039-4f09-8074-71875ab33be8",
   "metadata": {},
   "source": [
    "## Simplified Results"
   ]
  },
  {
   "cell_type": "markdown",
   "id": "15fd76df-f96c-4cd7-93d5-15b896bac986",
   "metadata": {},
   "source": [
    "### Weights"
   ]
  },
  {
   "cell_type": "code",
   "execution_count": 38,
   "id": "4be7ac20-7454-4461-8c85-e24695377256",
   "metadata": {},
   "outputs": [
    {
     "name": "stdout",
     "output_type": "stream",
     "text": [
      "0\n",
      "0\n"
     ]
    }
   ],
   "source": [
    "print(dJ_dw11 - dJ_dw12)\n",
    "print(dJ_dw21 - dJ_dw22)"
   ]
  },
  {
   "cell_type": "code",
   "execution_count": 31,
   "id": "e4ae0fd7-3443-435d-8e84-f5f1ad642735",
   "metadata": {},
   "outputs": [
    {
     "data": {
      "text/plain": [
       "0 == 0"
      ]
     },
     "execution_count": 31,
     "metadata": {},
     "output_type": "execute_result"
    }
   ],
   "source": [
    "dJ_dw11_simplified = s1*((q1-log(π[0])-1)*π[0]*(π[0]-1) + (q2-log(π[1])-1)*π[0]*π[1])\n",
    "(dJ_dw11 - dJ_dw11_simplified).full_simplify() == 0 # To confirm results! "
   ]
  },
  {
   "cell_type": "code",
   "execution_count": 32,
   "id": "1642001a-00be-4f45-90c2-6e07f7ff3810",
   "metadata": {},
   "outputs": [
    {
     "data": {
      "text/plain": [
       "0 == 0"
      ]
     },
     "execution_count": 32,
     "metadata": {},
     "output_type": "execute_result"
    }
   ],
   "source": [
    "dJ_dw12_simplified = s1*((q1-log(π[0])-1)*π[0]*(π[0]-1) + (q2-log(π[1])-1)*π[0]*π[1])\n",
    "(dJ_dw12 - dJ_dw12_simplified).full_simplify() == 0"
   ]
  },
  {
   "cell_type": "code",
   "execution_count": 33,
   "id": "b6660d77-59db-41a0-9d71-8eef65a52974",
   "metadata": {},
   "outputs": [
    {
     "data": {
      "text/plain": [
       "0 == 0"
      ]
     },
     "execution_count": 33,
     "metadata": {},
     "output_type": "execute_result"
    }
   ],
   "source": [
    "dJ_dw21_simplified = s2*((q2-log(π[1])-1)*π[1]*(π[1]-1) + (q1-log(π[0])-1)*π[0]*π[1])\n",
    "(dJ_dw21 - dJ_dw21_simplified).full_simplify() == 0"
   ]
  },
  {
   "cell_type": "code",
   "execution_count": 34,
   "id": "7c9e7952-c844-46f9-a344-c4a139f85300",
   "metadata": {},
   "outputs": [
    {
     "data": {
      "text/plain": [
       "0 == 0"
      ]
     },
     "execution_count": 34,
     "metadata": {},
     "output_type": "execute_result"
    }
   ],
   "source": [
    "dJ_dw22_simplified = s2*((q2-log(π[1])-1)*π[1]*(π[1]-1) + (q1-log(π[0])-1)*π[0]*π[1])\n",
    "(dJ_dw21 - dJ_dw21_simplified).full_simplify() == 0"
   ]
  },
  {
   "cell_type": "markdown",
   "id": "c0133bab-78a8-4e58-9647-363153c7ae06",
   "metadata": {},
   "source": [
    "### Bias"
   ]
  },
  {
   "cell_type": "code",
   "execution_count": 35,
   "id": "be562026-c944-44c5-8891-c01a7b062656",
   "metadata": {},
   "outputs": [
    {
     "data": {
      "text/plain": [
       "0 == 0"
      ]
     },
     "execution_count": 35,
     "metadata": {},
     "output_type": "execute_result"
    }
   ],
   "source": [
    "dJ_db1_simplified = (q1-log(π[0])-1)*π[0]*(π[0]-1) + (q2-log(π[1])-1)*π[0]*π[1]\n",
    "(dJ_db1 - dJ_db1_simplified).full_simplify() == 0 # To confirm results! "
   ]
  },
  {
   "cell_type": "code",
   "execution_count": 36,
   "id": "cf386672-7379-46e1-9c45-22ab4956d5d5",
   "metadata": {},
   "outputs": [
    {
     "data": {
      "text/plain": [
       "0 == 0"
      ]
     },
     "execution_count": 36,
     "metadata": {},
     "output_type": "execute_result"
    }
   ],
   "source": [
    "dJ_db2_simplified = (q2-log(π[1])-1)*π[1]*(π[1]-1) + (q1-log(π[0])-1)*π[0]*π[1]\n",
    "(dJ_db2 - dJ_db2_simplified).full_simplify() == 0 # To confirm results! "
   ]
  }
 ],
 "metadata": {
  "kernelspec": {
   "display_name": "SageMath 9.8",
   "language": "sage",
   "name": "sagemath-9.8"
  },
  "language_info": {
   "codemirror_mode": {
    "name": "ipython",
    "version": 3
   },
   "file_extension": ".py",
   "mimetype": "text/x-python",
   "name": "python",
   "nbconvert_exporter": "python",
   "pygments_lexer": "ipython3",
   "version": "3.11.1"
  }
 },
 "nbformat": 4,
 "nbformat_minor": 5
}
